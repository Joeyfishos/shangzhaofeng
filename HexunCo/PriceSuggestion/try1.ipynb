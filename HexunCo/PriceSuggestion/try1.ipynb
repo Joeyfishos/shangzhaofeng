{
 "cells": [
  {
   "cell_type": "code",
   "execution_count": 1,
   "metadata": {},
   "outputs": [],
   "source": [
    "\n",
    "import numpy as np # linear algebra\n",
    "import pandas as pd # data processing, CSV file I/O (e.g. pd.read_csv)\n",
    "\n",
    "\n",
    "from sklearn.feature_extraction.text import TfidfVectorizer\n",
    "from sklearn.model_selection import train_test_split, GridSearchCV\n",
    "from sklearn.metrics import mean_squared_log_error\n",
    "from sklearn.linear_model import SGDRegressor\n",
    "from sklearn.pipeline import Pipeline\n",
    "\n",
    "import matplotlib.pyplot as plt\n",
    "import seaborn as sns\n",
    "%matplotlib inline"
   ]
  },
  {
   "cell_type": "code",
   "execution_count": 2,
   "metadata": {
    "scrolled": true
   },
   "outputs": [],
   "source": [
    "train = pd.read_csv('/Users/ZHAOFENG SHANG/Desktop/NoteBook/PriceSuggestion/train_small2.tsv', encoding='utf-8')"
   ]
  },
  {
   "cell_type": "code",
   "execution_count": 3,
   "metadata": {},
   "outputs": [
    {
     "data": {
      "text/html": [
       "<div>\n",
       "<style scoped>\n",
       "    .dataframe tbody tr th:only-of-type {\n",
       "        vertical-align: middle;\n",
       "    }\n",
       "\n",
       "    .dataframe tbody tr th {\n",
       "        vertical-align: top;\n",
       "    }\n",
       "\n",
       "    .dataframe thead th {\n",
       "        text-align: right;\n",
       "    }\n",
       "</style>\n",
       "<table border=\"1\" class=\"dataframe\">\n",
       "  <thead>\n",
       "    <tr style=\"text-align: right;\">\n",
       "      <th></th>\n",
       "      <th>Unnamed: 0</th>\n",
       "      <th>name</th>\n",
       "      <th>item_condition_id</th>\n",
       "      <th>category_name</th>\n",
       "      <th>brand_name</th>\n",
       "      <th>price</th>\n",
       "      <th>shipping</th>\n",
       "      <th>item_description</th>\n",
       "      <th>desc_len</th>\n",
       "    </tr>\n",
       "  </thead>\n",
       "  <tbody>\n",
       "    <tr>\n",
       "      <th>0</th>\n",
       "      <td>0</td>\n",
       "      <td>MLB Cincinnati Reds T Shirt Size XL</td>\n",
       "      <td>3</td>\n",
       "      <td>Men/Tops/T-shirts</td>\n",
       "      <td>NaN</td>\n",
       "      <td>10.0</td>\n",
       "      <td>1</td>\n",
       "      <td>NaN</td>\n",
       "      <td>0</td>\n",
       "    </tr>\n",
       "    <tr>\n",
       "      <th>1</th>\n",
       "      <td>1</td>\n",
       "      <td>Razer BlackWidow Chroma Keyboard</td>\n",
       "      <td>3</td>\n",
       "      <td>Electronics/Computers &amp; Tablets/Components &amp; P...</td>\n",
       "      <td>Razer</td>\n",
       "      <td>52.0</td>\n",
       "      <td>0</td>\n",
       "      <td>This keyboard is in great condition and works ...</td>\n",
       "      <td>14</td>\n",
       "    </tr>\n",
       "    <tr>\n",
       "      <th>2</th>\n",
       "      <td>2</td>\n",
       "      <td>AVA-VIV Blouse</td>\n",
       "      <td>1</td>\n",
       "      <td>Women/Tops &amp; Blouses/Blouse</td>\n",
       "      <td>Target</td>\n",
       "      <td>10.0</td>\n",
       "      <td>1</td>\n",
       "      <td>Adorable top with a hint of lace and a key hol...</td>\n",
       "      <td>10</td>\n",
       "    </tr>\n",
       "    <tr>\n",
       "      <th>3</th>\n",
       "      <td>3</td>\n",
       "      <td>Leather Horse Statues</td>\n",
       "      <td>1</td>\n",
       "      <td>Home/Home Décor/Home Décor Accents</td>\n",
       "      <td>NaN</td>\n",
       "      <td>35.0</td>\n",
       "      <td>1</td>\n",
       "      <td>New with tags. Leather horses. Retail for [rm]...</td>\n",
       "      <td>14</td>\n",
       "    </tr>\n",
       "    <tr>\n",
       "      <th>4</th>\n",
       "      <td>4</td>\n",
       "      <td>24K GOLD plated rose</td>\n",
       "      <td>1</td>\n",
       "      <td>Women/Jewelry/Necklaces</td>\n",
       "      <td>NaN</td>\n",
       "      <td>44.0</td>\n",
       "      <td>0</td>\n",
       "      <td>Complete with certificate of authenticity</td>\n",
       "      <td>3</td>\n",
       "    </tr>\n",
       "  </tbody>\n",
       "</table>\n",
       "</div>"
      ],
      "text/plain": [
       "   Unnamed: 0                                 name  item_condition_id  \\\n",
       "0           0  MLB Cincinnati Reds T Shirt Size XL                  3   \n",
       "1           1     Razer BlackWidow Chroma Keyboard                  3   \n",
       "2           2                       AVA-VIV Blouse                  1   \n",
       "3           3                Leather Horse Statues                  1   \n",
       "4           4                 24K GOLD plated rose                  1   \n",
       "\n",
       "                                       category_name brand_name  price  \\\n",
       "0                                  Men/Tops/T-shirts        NaN   10.0   \n",
       "1  Electronics/Computers & Tablets/Components & P...      Razer   52.0   \n",
       "2                        Women/Tops & Blouses/Blouse     Target   10.0   \n",
       "3                 Home/Home Décor/Home Décor Accents        NaN   35.0   \n",
       "4                            Women/Jewelry/Necklaces        NaN   44.0   \n",
       "\n",
       "   shipping                                   item_description  desc_len  \n",
       "0         1                                                NaN         0  \n",
       "1         0  This keyboard is in great condition and works ...        14  \n",
       "2         1  Adorable top with a hint of lace and a key hol...        10  \n",
       "3         1  New with tags. Leather horses. Retail for [rm]...        14  \n",
       "4         0          Complete with certificate of authenticity         3  "
      ]
     },
     "execution_count": 3,
     "metadata": {},
     "output_type": "execute_result"
    }
   ],
   "source": [
    "train.head()"
   ]
  },
  {
   "cell_type": "code",
   "execution_count": 4,
   "metadata": {},
   "outputs": [
    {
     "name": "stdout",
     "output_type": "stream",
     "text": [
      "<class 'pandas.core.frame.DataFrame'>\n",
      "RangeIndex: 25000 entries, 0 to 24999\n",
      "Data columns (total 9 columns):\n",
      "Unnamed: 0           25000 non-null int64\n",
      "name                 25000 non-null object\n",
      "item_condition_id    25000 non-null int64\n",
      "category_name        24880 non-null object\n",
      "brand_name           14257 non-null object\n",
      "price                25000 non-null float64\n",
      "shipping             25000 non-null int64\n",
      "item_description     23608 non-null object\n",
      "desc_len             25000 non-null int64\n",
      "dtypes: float64(1), int64(4), object(4)\n",
      "memory usage: 1.3+ MB\n"
     ]
    }
   ],
   "source": [
    "train.info()"
   ]
  },
  {
   "cell_type": "code",
   "execution_count": 5,
   "metadata": {},
   "outputs": [],
   "source": [
    "def text_process(mess):\n",
    "\n",
    "    nonpunc = [char for char in mess if char not in string.punctuation]# in a string for every words\n",
    "\n",
    "    nonpunc = ''.join(nonpunc)\n",
    "    # first need split the nonpunc('string'),then use lower case word to check stopwords\n",
    "    return [words for words in nonpunc.split() if words.lower() not in stopwords.words('english')]"
   ]
  },
  {
   "cell_type": "code",
   "execution_count": 6,
   "metadata": {},
   "outputs": [],
   "source": [
    "train.loc[train['item_description']=='No description yet','item_description']='NULL'"
   ]
  },
  {
   "cell_type": "code",
   "execution_count": 7,
   "metadata": {},
   "outputs": [],
   "source": [
    "train.loc[train['item_description'].isnull(), 'item_description'] = 'NULL'"
   ]
  },
  {
   "cell_type": "code",
   "execution_count": 8,
   "metadata": {},
   "outputs": [],
   "source": [
    "X = (train['name'] + ' ' + train['item_description']).values\n",
    "Y = np.log1p(train['price'].values)"
   ]
  },
  {
   "cell_type": "code",
   "execution_count": 9,
   "metadata": {},
   "outputs": [],
   "source": [
    "X_train, X_test, y_train, y_test= train_test_split(X, Y, test_size=0.3)"
   ]
  },
  {
   "cell_type": "code",
   "execution_count": 10,
   "metadata": {
    "scrolled": true
   },
   "outputs": [],
   "source": [
    "import string\n",
    "from nltk.corpus import stopwords\n",
    "vect = TfidfVectorizer(analyzer=text_process)\n",
    "X_train_vect = vect.fit_transform(X_train)\n"
   ]
  },
  {
   "cell_type": "code",
   "execution_count": 20,
   "metadata": {},
   "outputs": [],
   "source": [
    "X_test_vect = vect.fit_transform(X_test)\n"
   ]
  },
  {
   "cell_type": "code",
   "execution_count": 21,
   "metadata": {},
   "outputs": [
    {
     "data": {
      "text/plain": [
       "array([ 3.29583687,  2.39789527,  1.60943791, ...,  2.7080502 ,\n",
       "        2.30258509,  2.30258509])"
      ]
     },
     "execution_count": 21,
     "metadata": {},
     "output_type": "execute_result"
    }
   ],
   "source": [
    "y_train"
   ]
  },
  {
   "cell_type": "code",
   "execution_count": 22,
   "metadata": {},
   "outputs": [],
   "source": [
    "model = SGDRegressor(loss='squared_loss', penalty='l2', max_iter=5)\n",
    "params = {'penalty':['none','l2','l1'],\n",
    "          'alpha':[1e-4, 2e-4, 5e-4, 1e-3, 2e-3, 5e-3, 1e-2, 2e-2, 5e-2, 0.1]}\n",
    "gs = GridSearchCV(estimator=model,\n",
    "                  param_grid=params,\n",
    "                  scoring='neg_mean_squared_error',\n",
    "                  n_jobs=1,\n",
    "                  cv=5,\n",
    "                  verbose=3)"
   ]
  },
  {
   "cell_type": "code",
   "execution_count": 23,
   "metadata": {},
   "outputs": [
    {
     "name": "stdout",
     "output_type": "stream",
     "text": [
      "Fitting 5 folds for each of 30 candidates, totalling 150 fits\n",
      "[CV] alpha=0.0001, penalty=none ......................................\n",
      "[CV]  alpha=0.0001, penalty=none, score=-1.9837360101274717, total=   0.0s\n",
      "[CV] alpha=0.0001, penalty=none ......................................\n",
      "[CV]  alpha=0.0001, penalty=none, score=-1.8926709616344966, total=   0.0s\n",
      "[CV] alpha=0.0001, penalty=none ......................................\n",
      "[CV]  alpha=0.0001, penalty=none, score=-1.8589917682572523, total=   0.0s\n",
      "[CV] alpha=0.0001, penalty=none ......................................\n",
      "[CV]  alpha=0.0001, penalty=none, score=-2.003186081155002, total=   0.0s\n",
      "[CV] alpha=0.0001, penalty=none ......................................\n",
      "[CV]  alpha=0.0001, penalty=none, score=-1.8678049120127937, total=   0.0s\n",
      "[CV] alpha=0.0001, penalty=l2 ........................................\n",
      "[CV]  alpha=0.0001, penalty=l2, score=-1.9871000653619595, total=   0.0s\n",
      "[CV] alpha=0.0001, penalty=l2 ........................................\n"
     ]
    },
    {
     "name": "stderr",
     "output_type": "stream",
     "text": [
      "[Parallel(n_jobs=1)]: Done   1 out of   1 | elapsed:    0.0s remaining:    0.0s\n",
      "[Parallel(n_jobs=1)]: Done   2 out of   2 | elapsed:    0.0s remaining:    0.0s\n"
     ]
    },
    {
     "name": "stdout",
     "output_type": "stream",
     "text": [
      "[CV]  alpha=0.0001, penalty=l2, score=-1.8957955151987085, total=   0.0s\n",
      "[CV] alpha=0.0001, penalty=l2 ........................................\n",
      "[CV]  alpha=0.0001, penalty=l2, score=-1.8624950799653008, total=   0.0s\n",
      "[CV] alpha=0.0001, penalty=l2 ........................................\n",
      "[CV]  alpha=0.0001, penalty=l2, score=-2.0073648103984922, total=   0.0s\n",
      "[CV] alpha=0.0001, penalty=l2 ........................................\n",
      "[CV]  alpha=0.0001, penalty=l2, score=-1.8704828339772466, total=   0.0s\n",
      "[CV] alpha=0.0001, penalty=l1 ........................................\n",
      "[CV]  alpha=0.0001, penalty=l1, score=-2.0098754615685825, total=   0.0s\n",
      "[CV] alpha=0.0001, penalty=l1 ........................................\n",
      "[CV]  alpha=0.0001, penalty=l1, score=-1.9160610474953106, total=   0.0s\n",
      "[CV] alpha=0.0001, penalty=l1 ........................................\n",
      "[CV]  alpha=0.0001, penalty=l1, score=-1.8840691389916238, total=   0.0s\n",
      "[CV] alpha=0.0001, penalty=l1 ........................................\n",
      "[CV]  alpha=0.0001, penalty=l1, score=-2.028625492790887, total=   0.0s\n",
      "[CV] alpha=0.0001, penalty=l1 ........................................\n",
      "[CV]  alpha=0.0001, penalty=l1, score=-1.8930321560489158, total=   0.0s\n",
      "[CV] alpha=0.0002, penalty=none ......................................\n",
      "[CV]  alpha=0.0002, penalty=none, score=-1.9842064585331398, total=   0.0s\n",
      "[CV] alpha=0.0002, penalty=none ......................................\n",
      "[CV]  alpha=0.0002, penalty=none, score=-1.8924320797144312, total=   0.0s\n",
      "[CV] alpha=0.0002, penalty=none ......................................\n",
      "[CV]  alpha=0.0002, penalty=none, score=-1.859102401292125, total=   0.0s\n",
      "[CV] alpha=0.0002, penalty=none ......................................\n",
      "[CV]  alpha=0.0002, penalty=none, score=-2.0035177140277147, total=   0.0s\n",
      "[CV] alpha=0.0002, penalty=none ......................................\n",
      "[CV]  alpha=0.0002, penalty=none, score=-1.867011747082003, total=   0.0s\n",
      "[CV] alpha=0.0002, penalty=l2 ........................................\n",
      "[CV]  alpha=0.0002, penalty=l2, score=-1.9917963064547664, total=   0.0s\n",
      "[CV] alpha=0.0002, penalty=l2 ........................................\n",
      "[CV]  alpha=0.0002, penalty=l2, score=-1.8987308815479955, total=   0.0s\n",
      "[CV] alpha=0.0002, penalty=l2 ........................................\n",
      "[CV]  alpha=0.0002, penalty=l2, score=-1.8663821954669235, total=   0.0s\n",
      "[CV] alpha=0.0002, penalty=l2 ........................................\n",
      "[CV]  alpha=0.0002, penalty=l2, score=-2.0097718762796486, total=   0.0s\n",
      "[CV] alpha=0.0002, penalty=l2 ........................................\n",
      "[CV]  alpha=0.0002, penalty=l2, score=-1.8748581827890274, total=   0.0s\n",
      "[CV] alpha=0.0002, penalty=l1 ........................................\n",
      "[CV]  alpha=0.0002, penalty=l1, score=-2.0328893473029632, total=   0.0s\n",
      "[CV] alpha=0.0002, penalty=l1 ........................................\n",
      "[CV]  alpha=0.0002, penalty=l1, score=-1.9381783292451882, total=   0.0s\n",
      "[CV] alpha=0.0002, penalty=l1 ........................................\n",
      "[CV]  alpha=0.0002, penalty=l1, score=-1.9063296571578467, total=   0.0s\n",
      "[CV] alpha=0.0002, penalty=l1 ........................................\n",
      "[CV]  alpha=0.0002, penalty=l1, score=-2.0516502275169906, total=   0.0s\n",
      "[CV] alpha=0.0002, penalty=l1 ........................................\n",
      "[CV]  alpha=0.0002, penalty=l1, score=-1.9148335553657283, total=   0.0s\n",
      "[CV] alpha=0.0005, penalty=none ......................................\n",
      "[CV]  alpha=0.0005, penalty=none, score=-1.984184500513894, total=   0.0s\n",
      "[CV] alpha=0.0005, penalty=none ......................................\n",
      "[CV]  alpha=0.0005, penalty=none, score=-1.8917374782820402, total=   0.0s\n",
      "[CV] alpha=0.0005, penalty=none ......................................\n",
      "[CV]  alpha=0.0005, penalty=none, score=-1.8592537316615536, total=   0.0s\n",
      "[CV] alpha=0.0005, penalty=none ......................................\n",
      "[CV]  alpha=0.0005, penalty=none, score=-2.002303087671388, total=   0.0s\n",
      "[CV] alpha=0.0005, penalty=none ......................................\n",
      "[CV]  alpha=0.0005, penalty=none, score=-1.8685723531548788, total=   0.0s\n",
      "[CV] alpha=0.0005, penalty=l2 ........................................\n",
      "[CV]  alpha=0.0005, penalty=l2, score=-2.001002093667384, total=   0.0s\n",
      "[CV] alpha=0.0005, penalty=l2 ........................................\n",
      "[CV]  alpha=0.0005, penalty=l2, score=-1.9090019443459263, total=   0.0s\n",
      "[CV] alpha=0.0005, penalty=l2 ........................................\n",
      "[CV]  alpha=0.0005, penalty=l2, score=-1.875243837561356, total=   0.0s\n",
      "[CV] alpha=0.0005, penalty=l2 ........................................\n",
      "[CV]  alpha=0.0005, penalty=l2, score=-2.0210162129656055, total=   0.0s\n",
      "[CV] alpha=0.0005, penalty=l2 ........................................\n",
      "[CV]  alpha=0.0005, penalty=l2, score=-1.8850170146999543, total=   0.0s\n",
      "[CV] alpha=0.0005, penalty=l1 ........................................\n",
      "[CV]  alpha=0.0005, penalty=l1, score=-2.0946407534344478, total=   0.0s\n",
      "[CV] alpha=0.0005, penalty=l1 ........................................\n",
      "[CV]  alpha=0.0005, penalty=l1, score=-1.9948195227616448, total=   0.0s\n",
      "[CV] alpha=0.0005, penalty=l1 ........................................\n",
      "[CV]  alpha=0.0005, penalty=l1, score=-1.9649677205394365, total=   0.0s\n",
      "[CV] alpha=0.0005, penalty=l1 ........................................\n",
      "[CV]  alpha=0.0005, penalty=l1, score=-2.1101801313662536, total=   0.0s\n",
      "[CV] alpha=0.0005, penalty=l1 ........................................\n",
      "[CV]  alpha=0.0005, penalty=l1, score=-1.9740442966675256, total=   0.0s\n",
      "[CV] alpha=0.001, penalty=none .......................................\n",
      "[CV]  alpha=0.001, penalty=none, score=-1.9844837225723848, total=   0.0s\n",
      "[CV] alpha=0.001, penalty=none .......................................\n",
      "[CV]  alpha=0.001, penalty=none, score=-1.8914354007409389, total=   0.0s\n",
      "[CV] alpha=0.001, penalty=none .......................................\n",
      "[CV]  alpha=0.001, penalty=none, score=-1.8604763977368617, total=   0.0s\n",
      "[CV] alpha=0.001, penalty=none .......................................\n",
      "[CV]  alpha=0.001, penalty=none, score=-2.002789893434299, total=   0.0s\n",
      "[CV] alpha=0.001, penalty=none .......................................\n",
      "[CV]  alpha=0.001, penalty=none, score=-1.8673853684924953, total=   0.0s\n",
      "[CV] alpha=0.001, penalty=l2 .........................................\n",
      "[CV]  alpha=0.001, penalty=l2, score=-2.0185622710397153, total=   0.0s\n",
      "[CV] alpha=0.001, penalty=l2 .........................................\n",
      "[CV]  alpha=0.001, penalty=l2, score=-1.926025482931932, total=   0.0s\n",
      "[CV] alpha=0.001, penalty=l2 .........................................\n",
      "[CV]  alpha=0.001, penalty=l2, score=-1.8922985594790427, total=   0.0s\n",
      "[CV] alpha=0.001, penalty=l2 .........................................\n",
      "[CV]  alpha=0.001, penalty=l2, score=-2.0366483815648135, total=   0.0s\n",
      "[CV] alpha=0.001, penalty=l2 .........................................\n",
      "[CV]  alpha=0.001, penalty=l2, score=-1.9007243683175075, total=   0.0s\n",
      "[CV] alpha=0.001, penalty=l1 .........................................\n",
      "[CV]  alpha=0.001, penalty=l1, score=-2.178667807043762, total=   0.0s\n",
      "[CV] alpha=0.001, penalty=l1 .........................................\n",
      "[CV]  alpha=0.001, penalty=l1, score=-2.077410718098752, total=   0.0s\n",
      "[CV] alpha=0.001, penalty=l1 .........................................\n",
      "[CV]  alpha=0.001, penalty=l1, score=-2.0474598471837346, total=   0.0s\n",
      "[CV] alpha=0.001, penalty=l1 .........................................\n",
      "[CV]  alpha=0.001, penalty=l1, score=-2.1952228516559678, total=   0.0s\n",
      "[CV] alpha=0.001, penalty=l1 .........................................\n",
      "[CV]  alpha=0.001, penalty=l1, score=-2.055259074217832, total=   0.0s\n",
      "[CV] alpha=0.002, penalty=none .......................................\n",
      "[CV]  alpha=0.002, penalty=none, score=-1.9836005443513371, total=   0.0s\n",
      "[CV] alpha=0.002, penalty=none .......................................\n",
      "[CV]  alpha=0.002, penalty=none, score=-1.8921911107332232, total=   0.0s\n",
      "[CV] alpha=0.002, penalty=none .......................................\n",
      "[CV]  alpha=0.002, penalty=none, score=-1.8607932372295388, total=   0.0s\n",
      "[CV] alpha=0.002, penalty=none .......................................\n",
      "[CV]  alpha=0.002, penalty=none, score=-2.0017502540579333, total=   0.0s\n",
      "[CV] alpha=0.002, penalty=none .......................................\n",
      "[CV]  alpha=0.002, penalty=none, score=-1.8684907380427214, total=   0.0s\n",
      "[CV] alpha=0.002, penalty=l2 .........................................\n",
      "[CV]  alpha=0.002, penalty=l2, score=-2.052759612388112, total=   0.0s\n",
      "[CV] alpha=0.002, penalty=l2 .........................................\n",
      "[CV]  alpha=0.002, penalty=l2, score=-1.9568263856529928, total=   0.0s\n",
      "[CV] alpha=0.002, penalty=l2 .........................................\n",
      "[CV]  alpha=0.002, penalty=l2, score=-1.9252535999031803, total=   0.0s\n",
      "[CV] alpha=0.002, penalty=l2 .........................................\n",
      "[CV]  alpha=0.002, penalty=l2, score=-2.0706519966686585, total=   0.0s\n",
      "[CV] alpha=0.002, penalty=l2 .........................................\n",
      "[CV]  alpha=0.002, penalty=l2, score=-1.9348421196648375, total=   0.0s\n",
      "[CV] alpha=0.002, penalty=l1 .........................................\n"
     ]
    },
    {
     "name": "stdout",
     "output_type": "stream",
     "text": [
      "[CV]  alpha=0.002, penalty=l1, score=-2.311029844366723, total=   0.0s\n",
      "[CV] alpha=0.002, penalty=l1 .........................................\n",
      "[CV]  alpha=0.002, penalty=l1, score=-2.2051718218952425, total=   0.0s\n",
      "[CV] alpha=0.002, penalty=l1 .........................................\n",
      "[CV]  alpha=0.002, penalty=l1, score=-2.179148004984871, total=   0.0s\n",
      "[CV] alpha=0.002, penalty=l1 .........................................\n",
      "[CV]  alpha=0.002, penalty=l1, score=-2.328405894934342, total=   0.0s\n",
      "[CV] alpha=0.002, penalty=l1 .........................................\n",
      "[CV]  alpha=0.002, penalty=l1, score=-2.184958178482023, total=   0.0s\n",
      "[CV] alpha=0.005, penalty=none .......................................\n",
      "[CV]  alpha=0.005, penalty=none, score=-1.9846347219447684, total=   0.0s\n",
      "[CV] alpha=0.005, penalty=none .......................................\n",
      "[CV]  alpha=0.005, penalty=none, score=-1.8925857225078606, total=   0.0s\n",
      "[CV] alpha=0.005, penalty=none .......................................\n",
      "[CV]  alpha=0.005, penalty=none, score=-1.8605695457854439, total=   0.0s\n",
      "[CV] alpha=0.005, penalty=none .......................................\n",
      "[CV]  alpha=0.005, penalty=none, score=-2.0036668976803935, total=   0.0s\n",
      "[CV] alpha=0.005, penalty=none .......................................\n",
      "[CV]  alpha=0.005, penalty=none, score=-1.868560995297818, total=   0.0s\n",
      "[CV] alpha=0.005, penalty=l2 .........................................\n",
      "[CV]  alpha=0.005, penalty=l2, score=-2.148133501347364, total=   0.0s\n",
      "[CV] alpha=0.005, penalty=l2 .........................................\n",
      "[CV]  alpha=0.005, penalty=l2, score=-2.0533261680316093, total=   0.0s\n",
      "[CV] alpha=0.005, penalty=l2 .........................................\n",
      "[CV]  alpha=0.005, penalty=l2, score=-2.019468834191489, total=   0.0s\n",
      "[CV] alpha=0.005, penalty=l2 .........................................\n",
      "[CV]  alpha=0.005, penalty=l2, score=-2.1678733278356903, total=   0.0s\n",
      "[CV] alpha=0.005, penalty=l2 .........................................\n",
      "[CV]  alpha=0.005, penalty=l2, score=-2.028002240806626, total=   0.0s\n",
      "[CV] alpha=0.005, penalty=l1 .........................................\n",
      "[CV]  alpha=0.005, penalty=l1, score=-2.5866132114787646, total=   0.0s\n",
      "[CV] alpha=0.005, penalty=l1 .........................................\n",
      "[CV]  alpha=0.005, penalty=l1, score=-2.478253045028411, total=   0.0s\n",
      "[CV] alpha=0.005, penalty=l1 .........................................\n",
      "[CV]  alpha=0.005, penalty=l1, score=-2.453297261485179, total=   0.0s\n",
      "[CV] alpha=0.005, penalty=l1 .........................................\n",
      "[CV]  alpha=0.005, penalty=l1, score=-2.6066814148503843, total=   0.0s\n",
      "[CV] alpha=0.005, penalty=l1 .........................................\n",
      "[CV]  alpha=0.005, penalty=l1, score=-2.4567739363969574, total=   0.0s\n",
      "[CV] alpha=0.01, penalty=none ........................................\n",
      "[CV]  alpha=0.01, penalty=none, score=-1.9841355163310468, total=   0.0s\n",
      "[CV] alpha=0.01, penalty=none ........................................\n",
      "[CV]  alpha=0.01, penalty=none, score=-1.8914334313941195, total=   0.0s\n",
      "[CV] alpha=0.01, penalty=none ........................................\n",
      "[CV]  alpha=0.01, penalty=none, score=-1.8598162988350526, total=   0.0s\n",
      "[CV] alpha=0.01, penalty=none ........................................\n",
      "[CV]  alpha=0.01, penalty=none, score=-2.002221537537746, total=   0.0s\n",
      "[CV] alpha=0.01, penalty=none ........................................\n",
      "[CV]  alpha=0.01, penalty=none, score=-1.8680805498102158, total=   0.0s\n",
      "[CV] alpha=0.01, penalty=l2 ..........................................\n",
      "[CV] .. alpha=0.01, penalty=l2, score=-2.29530453136299, total=   0.0s\n",
      "[CV] alpha=0.01, penalty=l2 ..........................................\n",
      "[CV]  alpha=0.01, penalty=l2, score=-2.1988763305991372, total=   0.0s\n",
      "[CV] alpha=0.01, penalty=l2 ..........................................\n",
      "[CV] . alpha=0.01, penalty=l2, score=-2.163905671621355, total=   0.0s\n",
      "[CV] alpha=0.01, penalty=l2 ..........................................\n",
      "[CV]  alpha=0.01, penalty=l2, score=-2.3158157098005994, total=   0.0s\n",
      "[CV] alpha=0.01, penalty=l2 ..........................................\n",
      "[CV] . alpha=0.01, penalty=l2, score=-2.174744330604457, total=   0.0s\n",
      "[CV] alpha=0.01, penalty=l1 ..........................................\n",
      "[CV] . alpha=0.01, penalty=l1, score=-2.880980914798562, total=   0.0s\n",
      "[CV] alpha=0.01, penalty=l1 ..........................................\n",
      "[CV]  alpha=0.01, penalty=l1, score=-2.7723607154557572, total=   0.0s\n",
      "[CV] alpha=0.01, penalty=l1 ..........................................\n",
      "[CV] . alpha=0.01, penalty=l1, score=-2.743022149104676, total=   0.0s\n",
      "[CV] alpha=0.01, penalty=l1 ..........................................\n",
      "[CV]  alpha=0.01, penalty=l1, score=-2.9009184558393737, total=   0.0s\n",
      "[CV] alpha=0.01, penalty=l1 ..........................................\n",
      "[CV] .. alpha=0.01, penalty=l1, score=-2.75197663843562, total=   0.0s\n",
      "[CV] alpha=0.02, penalty=none ........................................\n",
      "[CV]  alpha=0.02, penalty=none, score=-1.984766227836301, total=   0.0s\n",
      "[CV] alpha=0.02, penalty=none ........................................\n",
      "[CV]  alpha=0.02, penalty=none, score=-1.892323734280557, total=   0.0s\n",
      "[CV] alpha=0.02, penalty=none ........................................\n",
      "[CV]  alpha=0.02, penalty=none, score=-1.859992207999666, total=   0.0s\n",
      "[CV] alpha=0.02, penalty=none ........................................\n",
      "[CV]  alpha=0.02, penalty=none, score=-2.0032113947546044, total=   0.0s\n",
      "[CV] alpha=0.02, penalty=none ........................................\n",
      "[CV]  alpha=0.02, penalty=none, score=-1.8671954266036233, total=   0.0s\n",
      "[CV] alpha=0.02, penalty=l2 ..........................................\n",
      "[CV]  alpha=0.02, penalty=l2, score=-2.5399200144843377, total=   0.0s\n",
      "[CV] alpha=0.02, penalty=l2 ..........................................\n",
      "[CV]  alpha=0.02, penalty=l2, score=-2.4402137844144827, total=   0.0s\n",
      "[CV] alpha=0.02, penalty=l2 ..........................................\n",
      "[CV]  alpha=0.02, penalty=l2, score=-2.4046360410824508, total=   0.0s\n",
      "[CV] alpha=0.02, penalty=l2 ..........................................\n",
      "[CV]  alpha=0.02, penalty=l2, score=-2.5608360363515956, total=   0.0s\n",
      "[CV] alpha=0.02, penalty=l2 ..........................................\n",
      "[CV]  alpha=0.02, penalty=l2, score=-2.4181864370569643, total=   0.0s\n",
      "[CV] alpha=0.02, penalty=l1 ..........................................\n",
      "[CV] .. alpha=0.02, penalty=l1, score=-3.19266036106787, total=   0.0s\n",
      "[CV] alpha=0.02, penalty=l1 ..........................................\n",
      "[CV]  alpha=0.02, penalty=l1, score=-3.0832397764207844, total=   0.0s\n",
      "[CV] alpha=0.02, penalty=l1 ..........................................\n",
      "[CV] . alpha=0.02, penalty=l1, score=-3.050967882560248, total=   0.0s\n",
      "[CV] alpha=0.02, penalty=l1 ..........................................\n",
      "[CV]  alpha=0.02, penalty=l1, score=-3.2120162583910394, total=   0.0s\n",
      "[CV] alpha=0.02, penalty=l1 ..........................................\n",
      "[CV] . alpha=0.02, penalty=l1, score=-3.067613287100339, total=   0.0s\n",
      "[CV] alpha=0.05, penalty=none ........................................\n",
      "[CV]  alpha=0.05, penalty=none, score=-1.9852505780647531, total=   0.0s\n",
      "[CV] alpha=0.05, penalty=none ........................................\n",
      "[CV]  alpha=0.05, penalty=none, score=-1.8908930733810085, total=   0.0s\n",
      "[CV] alpha=0.05, penalty=none ........................................\n",
      "[CV]  alpha=0.05, penalty=none, score=-1.8604610126981749, total=   0.0s\n",
      "[CV] alpha=0.05, penalty=none ........................................\n",
      "[CV]  alpha=0.05, penalty=none, score=-2.002125310286408, total=   0.0s\n",
      "[CV] alpha=0.05, penalty=none ........................................\n",
      "[CV]  alpha=0.05, penalty=none, score=-1.868279961025422, total=   0.0s\n",
      "[CV] alpha=0.05, penalty=l2 ..........................................\n",
      "[CV] .. alpha=0.05, penalty=l2, score=-2.96603916283096, total=   0.0s\n",
      "[CV] alpha=0.05, penalty=l2 ..........................................\n",
      "[CV] . alpha=0.05, penalty=l2, score=-2.863505706205171, total=   0.0s\n",
      "[CV] alpha=0.05, penalty=l2 ..........................................\n",
      "[CV]  alpha=0.05, penalty=l2, score=-2.8251858721992598, total=   0.0s\n",
      "[CV] alpha=0.05, penalty=l2 ..........................................\n"
     ]
    },
    {
     "name": "stdout",
     "output_type": "stream",
     "text": [
      "[CV]  alpha=0.05, penalty=l2, score=-2.9908890059295716, total=   0.0s\n",
      "[CV] alpha=0.05, penalty=l2 ..........................................\n",
      "[CV] . alpha=0.05, penalty=l2, score=-2.843009297416894, total=   0.0s\n",
      "[CV] alpha=0.05, penalty=l1 ..........................................\n",
      "[CV]  alpha=0.05, penalty=l1, score=-3.4517796583054383, total=   0.0s\n",
      "[CV] alpha=0.05, penalty=l1 ..........................................\n",
      "[CV] . alpha=0.05, penalty=l1, score=-3.346464949912977, total=   0.0s\n",
      "[CV] alpha=0.05, penalty=l1 ..........................................\n",
      "[CV]  alpha=0.05, penalty=l1, score=-3.3048573992962598, total=   0.0s\n",
      "[CV] alpha=0.05, penalty=l1 ..........................................\n",
      "[CV]  alpha=0.05, penalty=l1, score=-3.4759318807780266, total=   0.0s\n",
      "[CV] alpha=0.05, penalty=l1 ..........................................\n",
      "[CV]  alpha=0.05, penalty=l1, score=-3.3322516363579924, total=   0.0s\n",
      "[CV] alpha=0.1, penalty=none .........................................\n",
      "[CV]  alpha=0.1, penalty=none, score=-1.9843001650954197, total=   0.0s\n",
      "[CV] alpha=0.1, penalty=none .........................................\n",
      "[CV]  alpha=0.1, penalty=none, score=-1.891825427172518, total=   0.0s\n",
      "[CV] alpha=0.1, penalty=none .........................................\n",
      "[CV]  alpha=0.1, penalty=none, score=-1.8612518903782194, total=   0.0s\n",
      "[CV] alpha=0.1, penalty=none .........................................\n",
      "[CV]  alpha=0.1, penalty=none, score=-2.0030983725372082, total=   0.0s\n",
      "[CV] alpha=0.1, penalty=none .........................................\n",
      "[CV]  alpha=0.1, penalty=none, score=-1.8683005001838373, total=   0.0s\n",
      "[CV] alpha=0.1, penalty=l2 ...........................................\n",
      "[CV] . alpha=0.1, penalty=l2, score=-3.2164874015393443, total=   0.0s\n",
      "[CV] alpha=0.1, penalty=l2 ...........................................\n",
      "[CV] .. alpha=0.1, penalty=l2, score=-3.113000193317143, total=   0.0s\n",
      "[CV] alpha=0.1, penalty=l2 ...........................................\n",
      "[CV] .. alpha=0.1, penalty=l2, score=-3.072089881835346, total=   0.0s\n",
      "[CV] alpha=0.1, penalty=l2 ...........................................\n",
      "[CV] . alpha=0.1, penalty=l2, score=-3.2412657759869252, total=   0.0s\n",
      "[CV] alpha=0.1, penalty=l2 ...........................................\n",
      "[CV] .. alpha=0.1, penalty=l2, score=-3.094229929664651, total=   0.0s\n",
      "[CV] alpha=0.1, penalty=l1 ...........................................\n",
      "[CV] .. alpha=0.1, penalty=l1, score=-3.451179781238959, total=   0.0s\n",
      "[CV] alpha=0.1, penalty=l1 ...........................................\n",
      "[CV] . alpha=0.1, penalty=l1, score=-3.3461424532380293, total=   0.0s\n",
      "[CV] alpha=0.1, penalty=l1 ...........................................\n",
      "[CV] .. alpha=0.1, penalty=l1, score=-3.304273558581514, total=   0.0s\n",
      "[CV] alpha=0.1, penalty=l1 ...........................................\n",
      "[CV] .. alpha=0.1, penalty=l1, score=-3.476767388784337, total=   0.0s\n",
      "[CV] alpha=0.1, penalty=l1 ...........................................\n",
      "[CV] . alpha=0.1, penalty=l1, score=-3.3311865307383663, total=   0.0s\n"
     ]
    },
    {
     "name": "stderr",
     "output_type": "stream",
     "text": [
      "[Parallel(n_jobs=1)]: Done 150 out of 150 | elapsed:    4.1s finished\n"
     ]
    },
    {
     "data": {
      "text/plain": [
       "GridSearchCV(cv=5, error_score='raise',\n",
       "       estimator=SGDRegressor(alpha=0.0001, average=False, epsilon=0.1, eta0=0.01,\n",
       "       fit_intercept=True, l1_ratio=0.15, learning_rate='invscaling',\n",
       "       loss='squared_loss', max_iter=5, n_iter=None, penalty='l2',\n",
       "       power_t=0.25, random_state=None, shuffle=True, tol=None, verbose=0,\n",
       "       warm_start=False),\n",
       "       fit_params=None, iid=True, n_jobs=1,\n",
       "       param_grid={'penalty': ['none', 'l2', 'l1'], 'alpha': [0.0001, 0.0002, 0.0005, 0.001, 0.002, 0.005, 0.01, 0.02, 0.05, 0.1]},\n",
       "       pre_dispatch='2*n_jobs', refit=True, return_train_score='warn',\n",
       "       scoring='neg_mean_squared_error', verbose=3)"
      ]
     },
     "execution_count": 23,
     "metadata": {},
     "output_type": "execute_result"
    }
   ],
   "source": [
    "gs.fit(X_train_vect, y_train)"
   ]
  },
  {
   "cell_type": "code",
   "execution_count": 24,
   "metadata": {},
   "outputs": [
    {
     "name": "stdout",
     "output_type": "stream",
     "text": [
      "Best score: -1.921\n",
      "Best parameters set:\n",
      "\talpha: 0.01\n",
      "\taverage: False\n",
      "\tepsilon: 0.1\n",
      "\teta0: 0.01\n",
      "\tfit_intercept: True\n",
      "\tl1_ratio: 0.15\n",
      "\tlearning_rate: invscaling\n",
      "\tloss: squared_loss\n",
      "\tmax_iter: 5\n",
      "\tn_iter: None\n",
      "\tpenalty: none\n",
      "\tpower_t: 0.25\n",
      "\trandom_state: None\n",
      "\tshuffle: True\n",
      "\ttol: None\n",
      "\tverbose: 0\n",
      "\twarm_start: False\n"
     ]
    }
   ],
   "source": [
    "print(\"Best score: %0.3f\" % gs.best_score_)\n",
    "print(\"Best parameters set:\")\n",
    "bsp = gs.best_estimator_.get_params()  # the dict of parameters with best score\n",
    "    \n",
    "for param_name in sorted(bsp.keys()):\n",
    "    print(\"\\t%s: %s\" % (param_name, bsp[param_name]))"
   ]
  },
  {
   "cell_type": "code",
   "execution_count": 25,
   "metadata": {},
   "outputs": [
    {
     "name": "stdout",
     "output_type": "stream",
     "text": [
      "{'alpha': 0.01, 'penalty': 'none'}\n"
     ]
    }
   ],
   "source": [
    "print(gs.best_params_)"
   ]
  },
  {
   "cell_type": "code",
   "execution_count": 26,
   "metadata": {},
   "outputs": [],
   "source": [
    "model = SGDRegressor(**bsp)"
   ]
  },
  {
   "cell_type": "code",
   "execution_count": 27,
   "metadata": {
    "scrolled": true
   },
   "outputs": [
    {
     "data": {
      "text/plain": [
       "SGDRegressor(alpha=0.01, average=False, epsilon=0.1, eta0=0.01,\n",
       "       fit_intercept=True, l1_ratio=0.15, learning_rate='invscaling',\n",
       "       loss='squared_loss', max_iter=5, n_iter=None, penalty='none',\n",
       "       power_t=0.25, random_state=None, shuffle=True, tol=None, verbose=0,\n",
       "       warm_start=False)"
      ]
     },
     "execution_count": 27,
     "metadata": {},
     "output_type": "execute_result"
    }
   ],
   "source": [
    "model.fit(X_train_vect, y_train)\n"
   ]
  },
  {
   "cell_type": "code",
   "execution_count": 28,
   "metadata": {
    "scrolled": true
   },
   "outputs": [
    {
     "ename": "ValueError",
     "evalue": "dimension mismatch",
     "output_type": "error",
     "traceback": [
      "\u001b[1;31m---------------------------------------------------------------------------\u001b[0m",
      "\u001b[1;31mValueError\u001b[0m                                Traceback (most recent call last)",
      "\u001b[1;32m<ipython-input-28-b644a32d0f61>\u001b[0m in \u001b[0;36m<module>\u001b[1;34m()\u001b[0m\n\u001b[1;32m----> 1\u001b[1;33m \u001b[0mY_predict\u001b[0m \u001b[1;33m=\u001b[0m \u001b[0mmodel\u001b[0m\u001b[1;33m.\u001b[0m\u001b[0mpredict\u001b[0m\u001b[1;33m(\u001b[0m\u001b[0mX_test_vect\u001b[0m\u001b[1;33m)\u001b[0m\u001b[1;33m\u001b[0m\u001b[0m\n\u001b[0m",
      "\u001b[1;32mc:\\users\\zhaofeng shang\\appdata\\local\\programs\\python\\python36-32\\lib\\site-packages\\sklearn\\linear_model\\stochastic_gradient.py\u001b[0m in \u001b[0;36mpredict\u001b[1;34m(self, X)\u001b[0m\n\u001b[0;32m   1087\u001b[0m            \u001b[0mPredicted\u001b[0m \u001b[0mtarget\u001b[0m \u001b[0mvalues\u001b[0m \u001b[0mper\u001b[0m \u001b[0melement\u001b[0m \u001b[1;32min\u001b[0m \u001b[0mX\u001b[0m\u001b[1;33m.\u001b[0m\u001b[1;33m\u001b[0m\u001b[0m\n\u001b[0;32m   1088\u001b[0m         \"\"\"\n\u001b[1;32m-> 1089\u001b[1;33m         \u001b[1;32mreturn\u001b[0m \u001b[0mself\u001b[0m\u001b[1;33m.\u001b[0m\u001b[0m_decision_function\u001b[0m\u001b[1;33m(\u001b[0m\u001b[0mX\u001b[0m\u001b[1;33m)\u001b[0m\u001b[1;33m\u001b[0m\u001b[0m\n\u001b[0m\u001b[0;32m   1090\u001b[0m \u001b[1;33m\u001b[0m\u001b[0m\n\u001b[0;32m   1091\u001b[0m     def _fit_regressor(self, X, y, alpha, C, loss, learning_rate,\n",
      "\u001b[1;32mc:\\users\\zhaofeng shang\\appdata\\local\\programs\\python\\python36-32\\lib\\site-packages\\sklearn\\linear_model\\stochastic_gradient.py\u001b[0m in \u001b[0;36m_decision_function\u001b[1;34m(self, X)\u001b[0m\n\u001b[0;32m   1072\u001b[0m \u001b[1;33m\u001b[0m\u001b[0m\n\u001b[0;32m   1073\u001b[0m         scores = safe_sparse_dot(X, self.coef_.T,\n\u001b[1;32m-> 1074\u001b[1;33m                                  dense_output=True) + self.intercept_\n\u001b[0m\u001b[0;32m   1075\u001b[0m         \u001b[1;32mreturn\u001b[0m \u001b[0mscores\u001b[0m\u001b[1;33m.\u001b[0m\u001b[0mravel\u001b[0m\u001b[1;33m(\u001b[0m\u001b[1;33m)\u001b[0m\u001b[1;33m\u001b[0m\u001b[0m\n\u001b[0;32m   1076\u001b[0m \u001b[1;33m\u001b[0m\u001b[0m\n",
      "\u001b[1;32mc:\\users\\zhaofeng shang\\appdata\\local\\programs\\python\\python36-32\\lib\\site-packages\\sklearn\\utils\\extmath.py\u001b[0m in \u001b[0;36msafe_sparse_dot\u001b[1;34m(a, b, dense_output)\u001b[0m\n\u001b[0;32m    133\u001b[0m     \"\"\"\n\u001b[0;32m    134\u001b[0m     \u001b[1;32mif\u001b[0m \u001b[0missparse\u001b[0m\u001b[1;33m(\u001b[0m\u001b[0ma\u001b[0m\u001b[1;33m)\u001b[0m \u001b[1;32mor\u001b[0m \u001b[0missparse\u001b[0m\u001b[1;33m(\u001b[0m\u001b[0mb\u001b[0m\u001b[1;33m)\u001b[0m\u001b[1;33m:\u001b[0m\u001b[1;33m\u001b[0m\u001b[0m\n\u001b[1;32m--> 135\u001b[1;33m         \u001b[0mret\u001b[0m \u001b[1;33m=\u001b[0m \u001b[0ma\u001b[0m \u001b[1;33m*\u001b[0m \u001b[0mb\u001b[0m\u001b[1;33m\u001b[0m\u001b[0m\n\u001b[0m\u001b[0;32m    136\u001b[0m         \u001b[1;32mif\u001b[0m \u001b[0mdense_output\u001b[0m \u001b[1;32mand\u001b[0m \u001b[0mhasattr\u001b[0m\u001b[1;33m(\u001b[0m\u001b[0mret\u001b[0m\u001b[1;33m,\u001b[0m \u001b[1;34m\"toarray\"\u001b[0m\u001b[1;33m)\u001b[0m\u001b[1;33m:\u001b[0m\u001b[1;33m\u001b[0m\u001b[0m\n\u001b[0;32m    137\u001b[0m             \u001b[0mret\u001b[0m \u001b[1;33m=\u001b[0m \u001b[0mret\u001b[0m\u001b[1;33m.\u001b[0m\u001b[0mtoarray\u001b[0m\u001b[1;33m(\u001b[0m\u001b[1;33m)\u001b[0m\u001b[1;33m\u001b[0m\u001b[0m\n",
      "\u001b[1;32mc:\\users\\zhaofeng shang\\appdata\\local\\programs\\python\\python36-32\\lib\\site-packages\\scipy\\sparse\\base.py\u001b[0m in \u001b[0;36m__mul__\u001b[1;34m(self, other)\u001b[0m\n\u001b[0;32m    456\u001b[0m             \u001b[1;31m# dense row or column vector\u001b[0m\u001b[1;33m\u001b[0m\u001b[1;33m\u001b[0m\u001b[0m\n\u001b[0;32m    457\u001b[0m             \u001b[1;32mif\u001b[0m \u001b[0mother\u001b[0m\u001b[1;33m.\u001b[0m\u001b[0mshape\u001b[0m \u001b[1;33m!=\u001b[0m \u001b[1;33m(\u001b[0m\u001b[0mN\u001b[0m\u001b[1;33m,\u001b[0m\u001b[1;33m)\u001b[0m \u001b[1;32mand\u001b[0m \u001b[0mother\u001b[0m\u001b[1;33m.\u001b[0m\u001b[0mshape\u001b[0m \u001b[1;33m!=\u001b[0m \u001b[1;33m(\u001b[0m\u001b[0mN\u001b[0m\u001b[1;33m,\u001b[0m \u001b[1;36m1\u001b[0m\u001b[1;33m)\u001b[0m\u001b[1;33m:\u001b[0m\u001b[1;33m\u001b[0m\u001b[0m\n\u001b[1;32m--> 458\u001b[1;33m                 \u001b[1;32mraise\u001b[0m \u001b[0mValueError\u001b[0m\u001b[1;33m(\u001b[0m\u001b[1;34m'dimension mismatch'\u001b[0m\u001b[1;33m)\u001b[0m\u001b[1;33m\u001b[0m\u001b[0m\n\u001b[0m\u001b[0;32m    459\u001b[0m \u001b[1;33m\u001b[0m\u001b[0m\n\u001b[0;32m    460\u001b[0m             \u001b[0mresult\u001b[0m \u001b[1;33m=\u001b[0m \u001b[0mself\u001b[0m\u001b[1;33m.\u001b[0m\u001b[0m_mul_vector\u001b[0m\u001b[1;33m(\u001b[0m\u001b[0mnp\u001b[0m\u001b[1;33m.\u001b[0m\u001b[0mravel\u001b[0m\u001b[1;33m(\u001b[0m\u001b[0mother\u001b[0m\u001b[1;33m)\u001b[0m\u001b[1;33m)\u001b[0m\u001b[1;33m\u001b[0m\u001b[0m\n",
      "\u001b[1;31mValueError\u001b[0m: dimension mismatch"
     ]
    }
   ],
   "source": [
    "Y_predict = model.predict(X_test_vect)"
   ]
  },
  {
   "cell_type": "code",
   "execution_count": 62,
   "metadata": {},
   "outputs": [
    {
     "data": {
      "text/plain": [
       "['Barack Obama', 'Bill Gates']"
      ]
     },
     "execution_count": 62,
     "metadata": {},
     "output_type": "execute_result"
    }
   ],
   "source": [
    "import re\n",
    "line = \"President [P] Barack Obama [/P] met Microsoft founder [P] Bill Gates [/P], yesterday.\"\n",
    "re.findall('\\[P\\]\\s?(.+?)\\s?\\[\\/P\\]', line)\n"
   ]
  },
  {
   "cell_type": "code",
   "execution_count": 29,
   "metadata": {},
   "outputs": [
    {
     "data": {
      "text/plain": [
       "<7500x24028 sparse matrix of type '<class 'numpy.float64'>'\n",
       "\twith 143120 stored elements in Compressed Sparse Row format>"
      ]
     },
     "execution_count": 29,
     "metadata": {},
     "output_type": "execute_result"
    }
   ],
   "source": [
    "X_test_vect"
   ]
  },
  {
   "cell_type": "code",
   "execution_count": 30,
   "metadata": {},
   "outputs": [
    {
     "data": {
      "text/plain": [
       "<17500x38964 sparse matrix of type '<class 'numpy.float64'>'\n",
       "\twith 333831 stored elements in Compressed Sparse Row format>"
      ]
     },
     "execution_count": 30,
     "metadata": {},
     "output_type": "execute_result"
    }
   ],
   "source": [
    "X_train_vect"
   ]
  },
  {
   "cell_type": "code",
   "execution_count": null,
   "metadata": {},
   "outputs": [],
   "source": []
  }
 ],
 "metadata": {
  "kernelspec": {
   "display_name": "Python 3",
   "language": "python",
   "name": "python3"
  },
  "language_info": {
   "codemirror_mode": {
    "name": "ipython",
    "version": 3
   },
   "file_extension": ".py",
   "mimetype": "text/x-python",
   "name": "python",
   "nbconvert_exporter": "python",
   "pygments_lexer": "ipython3",
   "version": "3.6.3"
  }
 },
 "nbformat": 4,
 "nbformat_minor": 2
}
