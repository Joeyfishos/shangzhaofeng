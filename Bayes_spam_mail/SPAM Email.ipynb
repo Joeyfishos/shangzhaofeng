{
 "cells": [
  {
   "cell_type": "code",
   "execution_count": 1,
   "metadata": {},
   "outputs": [],
   "source": [
    "import nltk\n",
    "import sys\n",
    "import pandas as pd\n",
    "import numpy as np\n",
    "import string\n",
    "from nltk.corpus import stopwords\n",
    "from sklearn.feature_extraction.text import CountVectorizer, TfidfTransformer"
   ]
  },
  {
   "cell_type": "code",
   "execution_count": 2,
   "metadata": {
    "scrolled": true
   },
   "outputs": [],
   "source": [
    "messages = pd.read_csv('SPAM.csv',delimiter='\\t',names=['label','message'])"
   ]
  },
  {
   "cell_type": "code",
   "execution_count": 3,
   "metadata": {
    "scrolled": true
   },
   "outputs": [
    {
     "data": {
      "text/html": [
       "<div>\n",
       "<style scoped>\n",
       "    .dataframe tbody tr th:only-of-type {\n",
       "        vertical-align: middle;\n",
       "    }\n",
       "\n",
       "    .dataframe tbody tr th {\n",
       "        vertical-align: top;\n",
       "    }\n",
       "\n",
       "    .dataframe thead th {\n",
       "        text-align: right;\n",
       "    }\n",
       "</style>\n",
       "<table border=\"1\" class=\"dataframe\">\n",
       "  <thead>\n",
       "    <tr style=\"text-align: right;\">\n",
       "      <th></th>\n",
       "      <th>label</th>\n",
       "      <th>message</th>\n",
       "    </tr>\n",
       "  </thead>\n",
       "  <tbody>\n",
       "    <tr>\n",
       "      <th>0</th>\n",
       "      <td>ham</td>\n",
       "      <td>Go until jurong point, crazy.. Available only ...</td>\n",
       "    </tr>\n",
       "    <tr>\n",
       "      <th>1</th>\n",
       "      <td>ham</td>\n",
       "      <td>Ok lar... Joking wif u oni...</td>\n",
       "    </tr>\n",
       "    <tr>\n",
       "      <th>2</th>\n",
       "      <td>spam</td>\n",
       "      <td>Free entry in 2 a wkly comp to win FA Cup fina...</td>\n",
       "    </tr>\n",
       "    <tr>\n",
       "      <th>3</th>\n",
       "      <td>ham</td>\n",
       "      <td>U dun say so early hor... U c already then say...</td>\n",
       "    </tr>\n",
       "    <tr>\n",
       "      <th>4</th>\n",
       "      <td>ham</td>\n",
       "      <td>Nah I don't think he goes to usf, he lives aro...</td>\n",
       "    </tr>\n",
       "  </tbody>\n",
       "</table>\n",
       "</div>"
      ],
      "text/plain": [
       "  label                                            message\n",
       "0   ham  Go until jurong point, crazy.. Available only ...\n",
       "1   ham                      Ok lar... Joking wif u oni...\n",
       "2  spam  Free entry in 2 a wkly comp to win FA Cup fina...\n",
       "3   ham  U dun say so early hor... U c already then say...\n",
       "4   ham  Nah I don't think he goes to usf, he lives aro..."
      ]
     },
     "execution_count": 3,
     "metadata": {},
     "output_type": "execute_result"
    }
   ],
   "source": [
    "messages.head()"
   ]
  },
  {
   "cell_type": "code",
   "execution_count": 4,
   "metadata": {},
   "outputs": [],
   "source": [
    "mess=messages['message'][0]"
   ]
  },
  {
   "cell_type": "code",
   "execution_count": 5,
   "metadata": {},
   "outputs": [
    {
     "data": {
      "text/plain": [
       "'Go until jurong point, crazy.. Available only in bugis n great world la e buffet... Cine there got amore wat...'"
      ]
     },
     "execution_count": 5,
     "metadata": {},
     "output_type": "execute_result"
    }
   ],
   "source": [
    "mess"
   ]
  },
  {
   "cell_type": "code",
   "execution_count": 6,
   "metadata": {
    "scrolled": true
   },
   "outputs": [
    {
     "data": {
      "text/plain": [
       "['G',\n",
       " 'o',\n",
       " ' ',\n",
       " 'u',\n",
       " 'n',\n",
       " 't',\n",
       " 'i',\n",
       " 'l',\n",
       " ' ',\n",
       " 'j',\n",
       " 'u',\n",
       " 'r',\n",
       " 'o',\n",
       " 'n',\n",
       " 'g',\n",
       " ' ',\n",
       " 'p',\n",
       " 'o',\n",
       " 'i',\n",
       " 'n',\n",
       " 't',\n",
       " ' ',\n",
       " 'c',\n",
       " 'r',\n",
       " 'a',\n",
       " 'z',\n",
       " 'y',\n",
       " ' ',\n",
       " 'A',\n",
       " 'v',\n",
       " 'a',\n",
       " 'i',\n",
       " 'l',\n",
       " 'a',\n",
       " 'b',\n",
       " 'l',\n",
       " 'e',\n",
       " ' ',\n",
       " 'o',\n",
       " 'n',\n",
       " 'l',\n",
       " 'y',\n",
       " ' ',\n",
       " 'i',\n",
       " 'n',\n",
       " ' ',\n",
       " 'b',\n",
       " 'u',\n",
       " 'g',\n",
       " 'i',\n",
       " 's',\n",
       " ' ',\n",
       " 'n',\n",
       " ' ',\n",
       " 'g',\n",
       " 'r',\n",
       " 'e',\n",
       " 'a',\n",
       " 't',\n",
       " ' ',\n",
       " 'w',\n",
       " 'o',\n",
       " 'r',\n",
       " 'l',\n",
       " 'd',\n",
       " ' ',\n",
       " 'l',\n",
       " 'a',\n",
       " ' ',\n",
       " 'e',\n",
       " ' ',\n",
       " 'b',\n",
       " 'u',\n",
       " 'f',\n",
       " 'f',\n",
       " 'e',\n",
       " 't',\n",
       " ' ',\n",
       " 'C',\n",
       " 'i',\n",
       " 'n',\n",
       " 'e',\n",
       " ' ',\n",
       " 't',\n",
       " 'h',\n",
       " 'e',\n",
       " 'r',\n",
       " 'e',\n",
       " ' ',\n",
       " 'g',\n",
       " 'o',\n",
       " 't',\n",
       " ' ',\n",
       " 'a',\n",
       " 'm',\n",
       " 'o',\n",
       " 'r',\n",
       " 'e',\n",
       " ' ',\n",
       " 'w',\n",
       " 'a',\n",
       " 't']"
      ]
     },
     "execution_count": 6,
     "metadata": {},
     "output_type": "execute_result"
    }
   ],
   "source": [
    "nonpunc=[char for char in mess if char not in string.punctuation]\n",
    "nonpunc\n",
    "# get rid of all comma, keep space still"
   ]
  },
  {
   "cell_type": "code",
   "execution_count": 29,
   "metadata": {},
   "outputs": [],
   "source": [
    "nonpunc=''.join(nonpunc)"
   ]
  },
  {
   "cell_type": "code",
   "execution_count": 36,
   "metadata": {},
   "outputs": [
    {
     "data": {
      "text/plain": [
       "'Go until jurong point crazy Available only in bugis n great world la e buffet Cine there got amore wat'"
      ]
     },
     "execution_count": 36,
     "metadata": {},
     "output_type": "execute_result"
    }
   ],
   "source": [
    "nonpunc# form into a string"
   ]
  },
  {
   "cell_type": "code",
   "execution_count": 7,
   "metadata": {},
   "outputs": [
    {
     "data": {
      "text/plain": [
       "'go'"
      ]
     },
     "execution_count": 7,
     "metadata": {},
     "output_type": "execute_result"
    }
   ],
   "source": [
    "s='Go'\n",
    "s.lower()"
   ]
  },
  {
   "cell_type": "code",
   "execution_count": 38,
   "metadata": {
    "scrolled": true
   },
   "outputs": [
    {
     "name": "stdout",
     "output_type": "stream",
     "text": [
      "[nltk_data] Downloading package stopwords to C:\\Users\\ZHAOFENG\n",
      "[nltk_data]     SHANG\\AppData\\Roaming\\nltk_data...\n",
      "[nltk_data]   Package stopwords is already up-to-date!\n"
     ]
    }
   ],
   "source": [
    "import nltk\n",
    "nltk.download('stopwords')\n",
    "nclean_mess = [word for word in nonpunc.split() if word.lower() not in stopwords.words('english')]"
   ]
  },
  {
   "cell_type": "code",
   "execution_count": 39,
   "metadata": {
    "scrolled": true
   },
   "outputs": [
    {
     "data": {
      "text/plain": [
       "['Go',\n",
       " 'jurong',\n",
       " 'point',\n",
       " 'crazy',\n",
       " 'Available',\n",
       " 'bugis',\n",
       " 'n',\n",
       " 'great',\n",
       " 'world',\n",
       " 'la',\n",
       " 'e',\n",
       " 'buffet',\n",
       " 'Cine',\n",
       " 'got',\n",
       " 'amore',\n",
       " 'wat']"
      ]
     },
     "execution_count": 39,
     "metadata": {},
     "output_type": "execute_result"
    }
   ],
   "source": [
    "nclean_mess#  after get rid of all stopwords."
   ]
  },
  {
   "cell_type": "code",
   "execution_count": 76,
   "metadata": {},
   "outputs": [],
   "source": [
    "def text_process(mess):\n",
    "\n",
    "    nonpunc = [char for char in mess if char not in string.punctuation]# in a string for every words\n",
    "\n",
    "    nonpunc = ''.join(nonpunc)\n",
    "    # first need split the nonpunc('string'),then use lower case word to check stopwords\n",
    "    return [words for words in nonpunc.split() if words.lower() not in stopwords.words('english')]"
   ]
  },
  {
   "cell_type": "code",
   "execution_count": 77,
   "metadata": {},
   "outputs": [],
   "source": [
    "bow_CountVectorizer = CountVectorizer(analyzer=text_process)"
   ]
  },
  {
   "cell_type": "code",
   "execution_count": 78,
   "metadata": {},
   "outputs": [
    {
     "data": {
      "text/plain": [
       "<5572x11425 sparse matrix of type '<class 'numpy.int64'>'\n",
       "\twith 50548 stored elements in Compressed Sparse Row format>"
      ]
     },
     "execution_count": 78,
     "metadata": {},
     "output_type": "execute_result"
    }
   ],
   "source": [
    "bow_CountVectorizer.fit_transform((messages['message']))"
   ]
  },
  {
   "cell_type": "code",
   "execution_count": 79,
   "metadata": {},
   "outputs": [
    {
     "data": {
      "text/plain": [
       "'U dun say so early hor... U c already then say...'"
      ]
     },
     "execution_count": 79,
     "metadata": {},
     "output_type": "execute_result"
    }
   ],
   "source": [
    "#a sample\n",
    "message4 = messages['message'][3]\n",
    "message4"
   ]
  },
  {
   "cell_type": "code",
   "execution_count": 80,
   "metadata": {},
   "outputs": [],
   "source": [
    "transformer=TfidfTransformer()"
   ]
  },
  {
   "cell_type": "code",
   "execution_count": 81,
   "metadata": {},
   "outputs": [],
   "source": [
    "tfidf=transformer.fit_transform(bow_CountVectorizer.fit_transform(messages['message']))"
   ]
  },
  {
   "cell_type": "code",
   "execution_count": 82,
   "metadata": {},
   "outputs": [
    {
     "data": {
      "text/plain": [
       "<5572x11425 sparse matrix of type '<class 'numpy.float64'>'\n",
       "\twith 50548 stored elements in Compressed Sparse Row format>"
      ]
     },
     "execution_count": 82,
     "metadata": {},
     "output_type": "execute_result"
    }
   ],
   "source": [
    "tfidf"
   ]
  },
  {
   "cell_type": "code",
   "execution_count": 106,
   "metadata": {},
   "outputs": [],
   "source": [
    "from sklearn.naive_bayes import MultinomialNB\n",
    "\n",
    "spam_dect_model = MultinomialNB().fit(tfidf, messages['label'])"
   ]
  },
  {
   "cell_type": "code",
   "execution_count": 107,
   "metadata": {},
   "outputs": [],
   "source": [
    "all_predictions = spam_dect_model.predict(tfidf)"
   ]
  },
  {
   "cell_type": "code",
   "execution_count": 108,
   "metadata": {},
   "outputs": [
    {
     "data": {
      "text/plain": [
       "array(['ham', 'ham', 'spam', ..., 'ham', 'ham', 'ham'],\n",
       "      dtype='<U4')"
      ]
     },
     "execution_count": 108,
     "metadata": {},
     "output_type": "execute_result"
    }
   ],
   "source": [
    "all_predictions\n",
    "# 二者的计算粒度不一样，多项式模型以单词为粒度，伯努利模型以文件为粒度，因此二者的先验概率和类条件概率的计算方法都不同。\n",
    "# 是伯努利朴素贝叶斯，是有无的0，1所以只能是0，1，所以分母是NO或yes的个数\n",
    "# 是多项式贝叶斯，则可以将这些词求tfidf值，这些值随频率有大有小，所以分母是总词数而不是个数了"
   ]
  },
  {
   "cell_type": "code",
   "execution_count": 63,
   "metadata": {},
   "outputs": [],
   "source": [
    "corpus = [\n",
    "    'This is the first document.',\n",
    "     'This is the second second document.',\n",
    "     'And the third one.',\n",
    "   'Is this the first document?']\n"
   ]
  },
  {
   "cell_type": "code",
   "execution_count": 68,
   "metadata": {},
   "outputs": [],
   "source": [
    "vectorizer = CountVectorizer(analyzer=text_process)\n",
    "X = vectorizer.fit_transform(corpus)"
   ]
  },
  {
   "cell_type": "code",
   "execution_count": 70,
   "metadata": {},
   "outputs": [
    {
     "data": {
      "text/plain": [
       "array([[1, 1, 0, 0, 0],\n",
       "       [1, 0, 0, 2, 0],\n",
       "       [0, 0, 1, 0, 1],\n",
       "       [1, 1, 0, 0, 0]], dtype=int64)"
      ]
     },
     "execution_count": 70,
     "metadata": {},
     "output_type": "execute_result"
    }
   ],
   "source": [
    "X.toarray()"
   ]
  },
  {
   "cell_type": "code",
   "execution_count": 72,
   "metadata": {},
   "outputs": [
    {
     "data": {
      "text/plain": [
       "{'document': 0, 'first': 1, 'one': 2, 'second': 3, 'third': 4}"
      ]
     },
     "execution_count": 72,
     "metadata": {},
     "output_type": "execute_result"
    }
   ],
   "source": [
    "vectorizer.vocabulary_"
   ]
  },
  {
   "cell_type": "code",
   "execution_count": 73,
   "metadata": {},
   "outputs": [],
   "source": [
    "transformer=TfidfTransformer()"
   ]
  },
  {
   "cell_type": "code",
   "execution_count": 75,
   "metadata": {},
   "outputs": [
    {
     "name": "stdout",
     "output_type": "stream",
     "text": [
      "  (0, 1)\t0.777221162079\n",
      "  (0, 0)\t0.62922751467\n",
      "  (1, 0)\t0.30403549376\n",
      "  (1, 3)\t0.952660704834\n",
      "  (2, 4)\t0.707106781187\n",
      "  (2, 2)\t0.707106781187\n",
      "  (3, 1)\t0.777221162079\n",
      "  (3, 0)\t0.62922751467\n"
     ]
    }
   ],
   "source": [
    "print(transformer.fit_transform(X))#第一句话的first这个词"
   ]
  },
  {
   "cell_type": "code",
   "execution_count": 8,
   "metadata": {},
   "outputs": [],
   "source": [
    "X = np.random.randint(5, size=(6, 100))  #6*100 个5以下的数组做multinomial\n",
    "y = np.array([1, 2, 3, 4, 5, 6])  \n",
    "from sklearn.naive_bayes import MultinomialNB  \n",
    "#朴素贝叶斯#多项式分布"
   ]
  },
  {
   "cell_type": "code",
   "execution_count": 9,
   "metadata": {
    "scrolled": true
   },
   "outputs": [
    {
     "data": {
      "text/plain": [
       "array([[2, 4, 1, 1, 3, 4, 2, 4, 0, 2, 0, 0, 1, 1, 0, 0, 2, 3, 1, 0, 4, 1,\n",
       "        4, 1, 0, 2, 2, 4, 4, 2, 1, 2, 3, 0, 1, 0, 0, 1, 0, 4, 1, 2, 4, 2,\n",
       "        3, 4, 0, 3, 1, 3, 0, 2, 2, 0, 3, 2, 3, 1, 4, 1, 3, 0, 0, 0, 4, 1,\n",
       "        3, 3, 1, 2, 0, 3, 2, 4, 4, 1, 3, 2, 3, 1, 2, 1, 4, 4, 3, 1, 4, 2,\n",
       "        1, 0, 4, 1, 0, 4, 0, 3, 1, 4, 1, 1],\n",
       "       [1, 4, 3, 3, 0, 2, 2, 0, 0, 3, 0, 4, 0, 0, 3, 0, 2, 1, 3, 3, 3, 0,\n",
       "        4, 2, 3, 4, 0, 3, 2, 0, 4, 0, 2, 1, 0, 2, 1, 0, 4, 4, 4, 4, 4, 3,\n",
       "        0, 3, 2, 2, 0, 4, 4, 1, 0, 4, 2, 2, 0, 4, 4, 1, 3, 2, 4, 3, 4, 0,\n",
       "        3, 4, 0, 0, 3, 0, 4, 4, 3, 3, 2, 3, 4, 4, 1, 0, 4, 3, 4, 2, 4, 3,\n",
       "        3, 0, 3, 3, 0, 3, 4, 3, 1, 1, 0, 2],\n",
       "       [3, 0, 3, 1, 2, 0, 1, 1, 1, 0, 4, 2, 2, 1, 2, 2, 3, 2, 1, 1, 1, 0,\n",
       "        2, 2, 1, 3, 2, 0, 1, 3, 2, 4, 0, 4, 3, 2, 3, 0, 1, 3, 4, 0, 1, 0,\n",
       "        3, 3, 2, 0, 2, 0, 4, 3, 4, 3, 3, 0, 2, 1, 0, 2, 1, 3, 0, 1, 3, 2,\n",
       "        1, 4, 3, 4, 0, 2, 3, 3, 4, 3, 2, 1, 1, 0, 0, 4, 1, 1, 3, 1, 0, 0,\n",
       "        0, 0, 2, 1, 0, 0, 1, 3, 2, 1, 2, 2],\n",
       "       [2, 1, 2, 3, 2, 1, 0, 2, 0, 4, 3, 3, 3, 2, 4, 0, 4, 2, 0, 3, 2, 0,\n",
       "        4, 2, 2, 0, 3, 3, 2, 4, 3, 4, 1, 4, 0, 1, 1, 3, 3, 3, 3, 4, 0, 3,\n",
       "        4, 0, 1, 3, 4, 2, 4, 2, 1, 3, 3, 0, 4, 1, 3, 1, 0, 3, 0, 3, 4, 4,\n",
       "        1, 2, 4, 0, 3, 2, 1, 1, 1, 1, 2, 0, 3, 0, 0, 2, 1, 3, 4, 2, 0, 1,\n",
       "        3, 2, 1, 0, 1, 4, 1, 3, 1, 0, 0, 3],\n",
       "       [3, 0, 3, 2, 3, 2, 0, 2, 4, 3, 0, 1, 1, 0, 3, 2, 3, 2, 0, 1, 3, 0,\n",
       "        4, 1, 1, 1, 4, 3, 0, 0, 1, 1, 2, 1, 2, 2, 2, 0, 0, 3, 4, 3, 2, 4,\n",
       "        0, 1, 4, 0, 2, 4, 4, 1, 3, 4, 4, 1, 2, 0, 4, 0, 1, 4, 4, 4, 4, 3,\n",
       "        4, 1, 2, 2, 3, 0, 3, 4, 2, 0, 0, 1, 1, 2, 2, 3, 0, 2, 0, 3, 4, 1,\n",
       "        1, 0, 3, 0, 2, 4, 0, 2, 2, 0, 3, 3],\n",
       "       [3, 0, 0, 3, 4, 0, 0, 0, 2, 3, 2, 2, 3, 2, 3, 0, 2, 2, 3, 0, 4, 3,\n",
       "        1, 3, 1, 1, 0, 4, 4, 1, 2, 0, 0, 0, 1, 1, 2, 1, 4, 3, 1, 3, 2, 4,\n",
       "        1, 4, 3, 0, 4, 0, 2, 4, 0, 2, 1, 3, 0, 2, 1, 4, 1, 0, 1, 2, 1, 1,\n",
       "        4, 2, 1, 3, 1, 0, 2, 0, 1, 4, 3, 4, 0, 0, 3, 1, 3, 1, 1, 2, 3, 4,\n",
       "        4, 2, 4, 0, 3, 1, 0, 1, 1, 0, 0, 2]])"
      ]
     },
     "execution_count": 9,
     "metadata": {},
     "output_type": "execute_result"
    }
   ],
   "source": [
    "X"
   ]
  },
  {
   "cell_type": "code",
   "execution_count": 105,
   "metadata": {},
   "outputs": [
    {
     "data": {
      "text/plain": [
       "array([3])"
      ]
     },
     "execution_count": 105,
     "metadata": {},
     "output_type": "execute_result"
    }
   ],
   "source": [
    "a=MultinomialNB().fit(X, y)  \n",
    "a.predict(X[2:3])"
   ]
  },
  {
   "cell_type": "code",
   "execution_count": 10,
   "metadata": {},
   "outputs": [
    {
     "data": {
      "text/plain": [
       "array([[3, 0, 3, 1, 2, 0, 1, 1, 1, 0, 4, 2, 2, 1, 2, 2, 3, 2, 1, 1, 1, 0,\n",
       "        2, 2, 1, 3, 2, 0, 1, 3, 2, 4, 0, 4, 3, 2, 3, 0, 1, 3, 4, 0, 1, 0,\n",
       "        3, 3, 2, 0, 2, 0, 4, 3, 4, 3, 3, 0, 2, 1, 0, 2, 1, 3, 0, 1, 3, 2,\n",
       "        1, 4, 3, 4, 0, 2, 3, 3, 4, 3, 2, 1, 1, 0, 0, 4, 1, 1, 3, 1, 0, 0,\n",
       "        0, 0, 2, 1, 0, 0, 1, 3, 2, 1, 2, 2]])"
      ]
     },
     "execution_count": 10,
     "metadata": {},
     "output_type": "execute_result"
    }
   ],
   "source": [
    "X[2:3]"
   ]
  },
  {
   "cell_type": "code",
   "execution_count": null,
   "metadata": {},
   "outputs": [],
   "source": []
  }
 ],
 "metadata": {
  "kernelspec": {
   "display_name": "Python 3",
   "language": "python",
   "name": "python3"
  },
  "language_info": {
   "codemirror_mode": {
    "name": "ipython",
    "version": 3
   },
   "file_extension": ".py",
   "mimetype": "text/x-python",
   "name": "python",
   "nbconvert_exporter": "python",
   "pygments_lexer": "ipython3",
   "version": "3.6.3"
  }
 },
 "nbformat": 4,
 "nbformat_minor": 2
}
