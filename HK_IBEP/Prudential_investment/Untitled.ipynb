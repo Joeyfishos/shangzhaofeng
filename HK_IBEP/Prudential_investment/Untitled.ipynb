{
 "cells": [
  {
   "cell_type": "code",
   "execution_count": 2,
   "metadata": {
    "scrolled": true
   },
   "outputs": [
    {
     "name": "stdout",
     "output_type": "stream",
     "text": [
      "<class 'pandas.core.frame.DataFrame'>\n",
      "RangeIndex: 59381 entries, 0 to 59380\n",
      "Columns: 128 entries, Id to Response\n",
      "dtypes: float64(18), int64(109), object(1)\n",
      "memory usage: 57.8+ MB\n",
      "<class 'pandas.core.frame.DataFrame'>\n",
      "RangeIndex: 19765 entries, 0 to 19764\n",
      "Columns: 127 entries, Id to Medical_Keyword_48\n",
      "dtypes: float64(18), int64(108), object(1)\n",
      "memory usage: 19.1+ MB\n"
     ]
    }
   ],
   "source": [
    "# Imports\n",
    "\n",
    "# pandas\n",
    "import pandas as pd\n",
    "from pandas import Series,DataFrame\n",
    "\n",
    "# numpy, matplotlib\n",
    "import numpy as np\n",
    "\n",
    "import xgboost as xgb\n",
    "\n",
    "# get prudential & test csv files as a DataFrame\n",
    "prudential_df  = pd.read_csv('train.csv')\n",
    "test_df        = pd.read_csv('test.csv')\n",
    "\n",
    "# preview the data\n",
    "prudential_df.head()\n",
    "\n",
    "prudential_df.info()\n",
    "test_df.info()\n",
    "# There are some columns with non-numerical values(i.e. dtype='object'),\n",
    "# So, We will create a corresponding unique numerical value for each \n",
    "#non-numerical value in a column of training and testing set.\n",
    "\n",
    "from sklearn import preprocessing\n",
    "\n",
    "for f in prudential_df.columns:\n",
    "    if prudential_df[f].dtype == 'object':\n",
    "        lbl = preprocessing.LabelEncoder()\n",
    "        lbl.fit(np.unique(list(prudential_df[f].values) + list(test_df[f].values)))\n",
    "        prudential_df[f] = lbl.transform(list(prudential_df[f].values))\n",
    "        test_df[f]       = lbl.transform(list(test_df[f].values))\n",
    "        \n",
    "# fill NaN values\n",
    "\n",
    "for f in prudential_df.columns:\n",
    "    if f == \"Response\": continue\n",
    "    if prudential_df[f].dtype == 'float64':\n",
    "        prudential_df[f].fillna(prudential_df[f].mean(), inplace=True)\n",
    "        test_df[f].fillna(test_df[f].mean(), inplace=True)\n",
    "    else:\n",
    "        prudential_df[f].fillna(prudential_df[f].median(), inplace=True)\n",
    "        test_df[f].fillna(test_df[f].median(), inplace=True)\n",
    "\n",
    "# prudential_df.fillna(0, inplace=True)\n",
    "# test_df.fillna(0, inplace=True)\n",
    "\n",
    "# define training and testing sets\n",
    "\n",
    "X_train = prudential_df.drop([\"Response\", \"Id\"],axis=1)\n",
    "Y_train = prudential_df[\"Response\"]\n",
    "X_test  = test_df.drop(\"Id\",axis=1).copy()\n",
    "\n",
    "# modify response values so that range of values is from 0-7 instead of 1-8\n",
    "Y_train = Y_train - 1\n",
    "\n",
    "# Xgboost \n",
    "\n",
    "params = {\"objective\": \"multi:softmax\", \"num_class\": 8}\n",
    "\n",
    "T_train_xgb = xgb.DMatrix(X_train, Y_train)\n",
    "X_test_xgb  = xgb.DMatrix(X_test)\n",
    "\n",
    "gbm = xgb.train(params, T_train_xgb, 20)\n",
    "Y_pred = gbm.predict(X_test_xgb)\n",
    "\n",
    "# change values back to range of values is from 1-8 instead of 0-7\n",
    "\n",
    "Y_pred = Y_pred + 1\n",
    "Y_pred = Y_pred.astype(int)\n",
    "\n",
    "# Create submission\n",
    "\n",
    "submission = pd.DataFrame({\n",
    "        \"Id\": test_df[\"Id\"],\n",
    "        \"Response\": Y_pred\n",
    "    })\n",
    "submission.to_csv('prudential.csv', index=False)"
   ]
  },
  {
   "cell_type": "code",
   "execution_count": null,
   "metadata": {},
   "outputs": [],
   "source": []
  }
 ],
 "metadata": {
  "kernelspec": {
   "display_name": "Python 3",
   "language": "python",
   "name": "python3"
  },
  "language_info": {
   "codemirror_mode": {
    "name": "ipython",
    "version": 3
   },
   "file_extension": ".py",
   "mimetype": "text/x-python",
   "name": "python",
   "nbconvert_exporter": "python",
   "pygments_lexer": "ipython3",
   "version": "3.6.3"
  }
 },
 "nbformat": 4,
 "nbformat_minor": 2
}
