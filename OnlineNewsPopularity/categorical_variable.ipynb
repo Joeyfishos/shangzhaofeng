{
 "cells": [
  {
   "cell_type": "code",
   "execution_count": 320,
   "metadata": {},
   "outputs": [],
   "source": [
    "import nltk\n",
    "import sys\n",
    "import pandas as pd\n",
    "import numpy as np\n",
    "import string\n",
    "from nltk.corpus import stopwords\n",
    "from sklearn.feature_extraction.text import CountVectorizer, TfidfTransformer\n",
    "from pandas import Series,DataFrame"
   ]
  },
  {
   "cell_type": "code",
   "execution_count": 321,
   "metadata": {},
   "outputs": [],
   "source": [
    "train=pd.read_csv('NewsDataset_final2.csv')"
   ]
  },
  {
   "cell_type": "code",
   "execution_count": 322,
   "metadata": {
    "scrolled": true
   },
   "outputs": [],
   "source": [
    "train=train[['Channel','topics','author','shares']]"
   ]
  },
  {
   "cell_type": "code",
   "execution_count": 323,
   "metadata": {
    "scrolled": true
   },
   "outputs": [
    {
     "data": {
      "text/html": [
       "<div>\n",
       "<style scoped>\n",
       "    .dataframe tbody tr th:only-of-type {\n",
       "        vertical-align: middle;\n",
       "    }\n",
       "\n",
       "    .dataframe tbody tr th {\n",
       "        vertical-align: top;\n",
       "    }\n",
       "\n",
       "    .dataframe thead th {\n",
       "        text-align: right;\n",
       "    }\n",
       "</style>\n",
       "<table border=\"1\" class=\"dataframe\">\n",
       "  <thead>\n",
       "    <tr style=\"text-align: right;\">\n",
       "      <th></th>\n",
       "      <th>Channel</th>\n",
       "      <th>topics</th>\n",
       "      <th>author</th>\n",
       "      <th>shares</th>\n",
       "    </tr>\n",
       "  </thead>\n",
       "  <tbody>\n",
       "    <tr>\n",
       "      <th>0</th>\n",
       "      <td>Media</td>\n",
       "      <td>amazon, Entertainment, Media, Video</td>\n",
       "      <td>Lauren Indvik</td>\n",
       "      <td>593</td>\n",
       "    </tr>\n",
       "    <tr>\n",
       "      <th>1</th>\n",
       "      <td>Media</td>\n",
       "      <td>Business, Media, Twitter</td>\n",
       "      <td>Seth Fiegerman</td>\n",
       "      <td>711</td>\n",
       "    </tr>\n",
       "    <tr>\n",
       "      <th>2</th>\n",
       "      <td>Business</td>\n",
       "      <td>Apple, apps, Apps and Software, Business, Mobile</td>\n",
       "      <td>Seth Fiegerman</td>\n",
       "      <td>1500</td>\n",
       "    </tr>\n",
       "    <tr>\n",
       "      <th>3</th>\n",
       "      <td>Entertainment</td>\n",
       "      <td>Space, college football, Entertainment, Sports</td>\n",
       "      <td>NaN</td>\n",
       "      <td>1200</td>\n",
       "    </tr>\n",
       "    <tr>\n",
       "      <th>4</th>\n",
       "      <td>Tech</td>\n",
       "      <td>apps, Apps and Software, AT&amp;T, CES, Tech</td>\n",
       "      <td>Emily Price</td>\n",
       "      <td>505</td>\n",
       "    </tr>\n",
       "  </tbody>\n",
       "</table>\n",
       "</div>"
      ],
      "text/plain": [
       "         Channel                                            topics  \\\n",
       "0          Media               amazon, Entertainment, Media, Video   \n",
       "1          Media                          Business, Media, Twitter   \n",
       "2       Business  Apple, apps, Apps and Software, Business, Mobile   \n",
       "3  Entertainment    Space, college football, Entertainment, Sports   \n",
       "4           Tech          apps, Apps and Software, AT&T, CES, Tech   \n",
       "\n",
       "           author  shares  \n",
       "0   Lauren Indvik     593  \n",
       "1  Seth Fiegerman     711  \n",
       "2  Seth Fiegerman    1500  \n",
       "3             NaN    1200  \n",
       "4     Emily Price     505  "
      ]
     },
     "execution_count": 323,
     "metadata": {},
     "output_type": "execute_result"
    }
   ],
   "source": [
    "train.head()"
   ]
  },
  {
   "cell_type": "code",
   "execution_count": null,
   "metadata": {
    "scrolled": true
   },
   "outputs": [],
   "source": []
  },
  {
   "cell_type": "code",
   "execution_count": 324,
   "metadata": {
    "scrolled": true
   },
   "outputs": [],
   "source": [
    "lists=train['Channel']+', '+train['topics']+', '+train['author']\n",
    "# here after'+' must have a space, or the Mediaamazon will be together."
   ]
  },
  {
   "cell_type": "code",
   "execution_count": 325,
   "metadata": {
    "scrolled": true
   },
   "outputs": [
    {
     "data": {
      "text/plain": [
       "0       Media, amazon, Entertainment, Media, Video, La...\n",
       "1         Media, Business, Media, Twitter, Seth Fiegerman\n",
       "2       Business, Apple, apps, Apps and Software, Busi...\n",
       "3                                                     NaN\n",
       "4       Tech, apps, Apps and Software, AT&T, CES, Tech...\n",
       "5       Tech, CES, Gadgets, Mobile, remote control, Te...\n",
       "6       Gadgets, bodymedia, CES, Health & Fitness, Gad...\n",
       "7       Tech, Canon, CES, Gadgets, point and shoot, Po...\n",
       "8       Tech, Cars, car of the future, Include in info...\n",
       "9           U.S., Politics, U.S., World, Alex Fitzpatrick\n",
       "10                                                    NaN\n",
       "11                                                    NaN\n",
       "12      Watercooler, Alt Image Lead, Coffee, gallery, ...\n",
       "13      Watercooler, jokes, Video, Videos, viral video...\n",
       "14      Watercooler, Downton Abbey, gallery, Memes, tu...\n",
       "15                                                    NaN\n",
       "16      Watercooler, Video, Videos, viral video, Water...\n",
       "17                                                    NaN\n",
       "18      Marketing, Facebook, Health & Fitness, Lifesty...\n",
       "19      Tech, Bluetooth speakers, CES, earbuds, Gadget...\n",
       "20      Tech, apps, Apps and Software, CES, ford, Glym...\n",
       "21      U.S., Politics, federal trade commission, Goog...\n",
       "22      Tech, CES, Fujifilm, superzoom, Tech, Pete Pachal\n",
       "23      U.S., Hillary Clinton, Photography, Politics, ...\n",
       "24        Business, Business, HTC, Mobile, Todd Wasserman\n",
       "25      Mobile, ascend d2, ascend mate, CES, Huawei, M...\n",
       "26      Music, apps, Apps and Software, CES, iheartrad...\n",
       "27      Tech, CES, ces2013, Gadgets, gallery, Intel, T...\n",
       "28      Gadgets, iPad, CES, Gadgets, Health & Fitness,...\n",
       "29      Business, Business, Jobs, Mashable Job Board, ...\n",
       "                              ...                        \n",
       "3966    U.S., cory booker, Politics, reddit, U.S., Wor...\n",
       "3967    Lifestyle, craigslist, gallery, Home, Lifestyl...\n",
       "3968    Gaming, EA, electronic arts, Entertainment, Ga...\n",
       "3969    Entertainment, Entertainment, soccer, Sports, ...\n",
       "3970    Social Media, Facebook, God, Religion, Social ...\n",
       "3971    Tech, Apps and Software, Facebook, iOS apps, M...\n",
       "3972    Entertainment, Apple, Entertainment, Movies, f...\n",
       "3973    Gaming, Entertainment, Gaming, gears of war, r...\n",
       "3974    Tech, Google, Google Drive, Mobile, Tech, Sama...\n",
       "3975    Tech, Gadgets, Google, Google Glass, Google Gl...\n",
       "3976    Tech, Apps and Software, Google, Google Drive,...\n",
       "3977    Tech, Apps and Software, Google, google maps, ...\n",
       "3978    Media, Android, Apps and Software, Google, goo...\n",
       "3979    Apps & Software, Apps and Software, censorship...\n",
       "3980    Music, Apps and Software, beyonce, First to Kn...\n",
       "3981                                                  NaN\n",
       "3982    Tech, BlackBerry, BlackBerry 10, BlackBerry Z1...\n",
       "3983    Watercooler, Homeland, parody, Television, Vid...\n",
       "3984    Watercooler, Video, Videos, viral video, Water...\n",
       "3985    Gadgets, Food, Gadgets, Home, Lifestyle, Video...\n",
       "3986                                                  NaN\n",
       "3987    Tech, cyberattack, Dev & Design, security, Tec...\n",
       "3988    World, computer fraud and abuse act, computer ...\n",
       "3989    Business, Business, jack dorsey, Square, Twitt...\n",
       "3990    Business, Business, Jobs, mashable jobs board,...\n",
       "3991    Movies, cats, Movies, lil bub, Memes, tribeca,...\n",
       "3992    Entertainment, college sports, Entertainment, ...\n",
       "3993    Entertainment, college sports, Entertainment, ...\n",
       "3994    U.S., inspiration, LGBT, prop 8, U.S., Video, ...\n",
       "3995    Social Media, mashable house, MashBash, Social...\n",
       "Length: 3996, dtype: object"
      ]
     },
     "execution_count": 325,
     "metadata": {},
     "output_type": "execute_result"
    }
   ],
   "source": [
    "lists"
   ]
  },
  {
   "cell_type": "code",
   "execution_count": 326,
   "metadata": {
    "scrolled": true
   },
   "outputs": [],
   "source": [
    "train=pd.concat([train['shares'],lists],axis=1)"
   ]
  },
  {
   "cell_type": "code",
   "execution_count": 327,
   "metadata": {
    "scrolled": true
   },
   "outputs": [],
   "source": [
    "train.rename(columns={0:'lists'},inplace=True)"
   ]
  },
  {
   "cell_type": "code",
   "execution_count": 328,
   "metadata": {
    "scrolled": true
   },
   "outputs": [
    {
     "data": {
      "text/html": [
       "<div>\n",
       "<style scoped>\n",
       "    .dataframe tbody tr th:only-of-type {\n",
       "        vertical-align: middle;\n",
       "    }\n",
       "\n",
       "    .dataframe tbody tr th {\n",
       "        vertical-align: top;\n",
       "    }\n",
       "\n",
       "    .dataframe thead th {\n",
       "        text-align: right;\n",
       "    }\n",
       "</style>\n",
       "<table border=\"1\" class=\"dataframe\">\n",
       "  <thead>\n",
       "    <tr style=\"text-align: right;\">\n",
       "      <th></th>\n",
       "      <th>shares</th>\n",
       "      <th>lists</th>\n",
       "    </tr>\n",
       "  </thead>\n",
       "  <tbody>\n",
       "    <tr>\n",
       "      <th>0</th>\n",
       "      <td>593</td>\n",
       "      <td>Media, amazon, Entertainment, Media, Video, La...</td>\n",
       "    </tr>\n",
       "    <tr>\n",
       "      <th>1</th>\n",
       "      <td>711</td>\n",
       "      <td>Media, Business, Media, Twitter, Seth Fiegerman</td>\n",
       "    </tr>\n",
       "    <tr>\n",
       "      <th>2</th>\n",
       "      <td>1500</td>\n",
       "      <td>Business, Apple, apps, Apps and Software, Busi...</td>\n",
       "    </tr>\n",
       "    <tr>\n",
       "      <th>3</th>\n",
       "      <td>1200</td>\n",
       "      <td>NaN</td>\n",
       "    </tr>\n",
       "    <tr>\n",
       "      <th>4</th>\n",
       "      <td>505</td>\n",
       "      <td>Tech, apps, Apps and Software, AT&amp;T, CES, Tech...</td>\n",
       "    </tr>\n",
       "  </tbody>\n",
       "</table>\n",
       "</div>"
      ],
      "text/plain": [
       "   shares                                              lists\n",
       "0     593  Media, amazon, Entertainment, Media, Video, La...\n",
       "1     711    Media, Business, Media, Twitter, Seth Fiegerman\n",
       "2    1500  Business, Apple, apps, Apps and Software, Busi...\n",
       "3    1200                                                NaN\n",
       "4     505  Tech, apps, Apps and Software, AT&T, CES, Tech..."
      ]
     },
     "execution_count": 328,
     "metadata": {},
     "output_type": "execute_result"
    }
   ],
   "source": [
    "train.head()"
   ]
  },
  {
   "cell_type": "code",
   "execution_count": 329,
   "metadata": {},
   "outputs": [
    {
     "data": {
      "text/plain": [
       "count      3996.000000\n",
       "mean       3237.111361\n",
       "std       11786.715153\n",
       "min         217.000000\n",
       "25%         998.750000\n",
       "50%        1600.000000\n",
       "75%        2800.000000\n",
       "max      617900.000000\n",
       "Name: shares, dtype: float64"
      ]
     },
     "execution_count": 329,
     "metadata": {},
     "output_type": "execute_result"
    }
   ],
   "source": [
    "train['shares'].describe()"
   ]
  },
  {
   "cell_type": "code",
   "execution_count": 330,
   "metadata": {
    "scrolled": true
   },
   "outputs": [
    {
     "data": {
      "text/html": [
       "<div>\n",
       "<style scoped>\n",
       "    .dataframe tbody tr th:only-of-type {\n",
       "        vertical-align: middle;\n",
       "    }\n",
       "\n",
       "    .dataframe tbody tr th {\n",
       "        vertical-align: top;\n",
       "    }\n",
       "\n",
       "    .dataframe thead th {\n",
       "        text-align: right;\n",
       "    }\n",
       "</style>\n",
       "<table border=\"1\" class=\"dataframe\">\n",
       "  <thead>\n",
       "    <tr style=\"text-align: right;\">\n",
       "      <th></th>\n",
       "      <th>shares</th>\n",
       "      <th>lists</th>\n",
       "    </tr>\n",
       "  </thead>\n",
       "  <tbody>\n",
       "    <tr>\n",
       "      <th>0</th>\n",
       "      <td>low</td>\n",
       "      <td>Media, amazon, Entertainment, Media, Video, La...</td>\n",
       "    </tr>\n",
       "    <tr>\n",
       "      <th>1</th>\n",
       "      <td>low</td>\n",
       "      <td>Media, Business, Media, Twitter, Seth Fiegerman</td>\n",
       "    </tr>\n",
       "    <tr>\n",
       "      <th>2</th>\n",
       "      <td>medium</td>\n",
       "      <td>Business, Apple, apps, Apps and Software, Busi...</td>\n",
       "    </tr>\n",
       "    <tr>\n",
       "      <th>4</th>\n",
       "      <td>low</td>\n",
       "      <td>Tech, apps, Apps and Software, AT&amp;T, CES, Tech...</td>\n",
       "    </tr>\n",
       "    <tr>\n",
       "      <th>5</th>\n",
       "      <td>low</td>\n",
       "      <td>Tech, CES, Gadgets, Mobile, remote control, Te...</td>\n",
       "    </tr>\n",
       "  </tbody>\n",
       "</table>\n",
       "</div>"
      ],
      "text/plain": [
       "   shares                                              lists\n",
       "0     low  Media, amazon, Entertainment, Media, Video, La...\n",
       "1     low    Media, Business, Media, Twitter, Seth Fiegerman\n",
       "2  medium  Business, Apple, apps, Apps and Software, Busi...\n",
       "4     low  Tech, apps, Apps and Software, AT&T, CES, Tech...\n",
       "5     low  Tech, CES, Gadgets, Mobile, remote control, Te..."
      ]
     },
     "execution_count": 330,
     "metadata": {},
     "output_type": "execute_result"
    }
   ],
   "source": [
    "# delete all NaN, binned the shares\n",
    "train=train.dropna()\n",
    "\n",
    "def binn(data):\n",
    "    \n",
    "    data.loc[data['shares'] < 998, 'shares'] = 1\n",
    "    data.loc[(data['shares'] < 1600) & (data['shares'] >= 998), 'shares'] = 2\n",
    "    data.loc[(data['shares'] < 2800) & (data['shares'] >=1600), 'shares'] = 3\n",
    "    data.loc[data['shares'] >= 2800, 'shares'] = 4\n",
    "    train.loc[train['shares']==1, 'shares'] = 'low'\n",
    "    train.loc[train['shares']==2, 'shares'] = 'medium'\n",
    "    train.loc[train['shares']==3, 'shares'] = 'high'\n",
    "    train.loc[train['shares']==4, 'shares'] = 'best'\n",
    "    \n",
    "    return data\n",
    "train=binn(train)\n",
    "train.head()"
   ]
  },
  {
   "cell_type": "code",
   "execution_count": 331,
   "metadata": {
    "scrolled": true
   },
   "outputs": [
    {
     "data": {
      "text/plain": [
       "0          low\n",
       "1          low\n",
       "2       medium\n",
       "4          low\n",
       "5          low\n",
       "6          low\n",
       "7          low\n",
       "8         best\n",
       "9          low\n",
       "12         low\n",
       "13        best\n",
       "14         low\n",
       "16        best\n",
       "18        best\n",
       "19        best\n",
       "20        best\n",
       "21         low\n",
       "22         low\n",
       "23      medium\n",
       "24         low\n",
       "25         low\n",
       "26      medium\n",
       "27        high\n",
       "28         low\n",
       "29         low\n",
       "31        best\n",
       "32         low\n",
       "33         low\n",
       "34        best\n",
       "35         low\n",
       "         ...  \n",
       "3964      best\n",
       "3965      best\n",
       "3966       low\n",
       "3967    medium\n",
       "3968    medium\n",
       "3969       low\n",
       "3970      best\n",
       "3971      high\n",
       "3972      high\n",
       "3973       low\n",
       "3974      best\n",
       "3975      best\n",
       "3976    medium\n",
       "3977      best\n",
       "3978    medium\n",
       "3979      high\n",
       "3980       low\n",
       "3982      best\n",
       "3983       low\n",
       "3984      high\n",
       "3985      high\n",
       "3987      best\n",
       "3988    medium\n",
       "3989    medium\n",
       "3990    medium\n",
       "3991       low\n",
       "3992       low\n",
       "3993    medium\n",
       "3994    medium\n",
       "3995    medium\n",
       "Name: shares, Length: 3436, dtype: object"
      ]
     },
     "execution_count": 331,
     "metadata": {},
     "output_type": "execute_result"
    }
   ],
   "source": [
    "# now, need get off all 1.punctuation, comma .. and all 2. stopwords.\n",
    "#lets take one as example\n",
    "train.loc[train['shares']==1, 'shares'] = 'asd'\n",
    "train['shares']"
   ]
  },
  {
   "cell_type": "code",
   "execution_count": 332,
   "metadata": {},
   "outputs": [
    {
     "data": {
      "text/plain": [
       "'Media, amazon, Entertainment, Media, Video, Lauren Indvik'"
      ]
     },
     "execution_count": 332,
     "metadata": {},
     "output_type": "execute_result"
    }
   ],
   "source": [
    "message=train['lists'][0]\n",
    "message"
   ]
  },
  {
   "cell_type": "code",
   "execution_count": 333,
   "metadata": {},
   "outputs": [
    {
     "name": "stdout",
     "output_type": "stream",
     "text": [
      "['M', 'e', 'd', 'i', 'a', ' ', 'a', 'm', 'a', 'z', 'o', 'n', ' ', 'E', 'n', 't', 'e', 'r', 't', 'a', 'i', 'n', 'm', 'e', 'n', 't', ' ', 'M', 'e', 'd', 'i', 'a', ' ', 'V', 'i', 'd', 'e', 'o', ' ', 'L', 'a', 'u', 'r', 'e', 'n', ' ', 'I', 'n', 'd', 'v', 'i', 'k']"
     ]
    }
   ],
   "source": [
    "# 1. get off punctuation, such as comma\n",
    "import string\n",
    "nonpunc = [char for char in message if char not in string.punctuation]\n",
    "# here use message rather than message.split(), caz need check every letter to find comma\n",
    "print(nonpunc,end='')"
   ]
  },
  {
   "cell_type": "code",
   "execution_count": 334,
   "metadata": {},
   "outputs": [
    {
     "data": {
      "text/plain": [
       "'Media amazon Entertainment Media Video Lauren Indvik'"
      ]
     },
     "execution_count": 334,
     "metadata": {},
     "output_type": "execute_result"
    }
   ],
   "source": [
    "nonpunc=''.join(nonpunc)\n",
    "nonpunc  # join them"
   ]
  },
  {
   "cell_type": "code",
   "execution_count": 335,
   "metadata": {},
   "outputs": [
    {
     "name": "stdout",
     "output_type": "stream",
     "text": [
      "[nltk_data] Downloading package stopwords to C:\\Users\\ZHAOFENG\n",
      "[nltk_data]     SHANG\\AppData\\Roaming\\nltk_data...\n",
      "[nltk_data]   Package stopwords is already up-to-date!\n"
     ]
    }
   ],
   "source": [
    "# 2. get off all stopwords.\n",
    "import nltk\n",
    "nltk.download('stopwords')# here must use the split or 'word' will be treated as letter not word\n",
    "cleann = [word for word in nonpunc.split() if word.lower() not in stopwords.words('english')]"
   ]
  },
  {
   "cell_type": "code",
   "execution_count": 336,
   "metadata": {
    "scrolled": true
   },
   "outputs": [
    {
     "data": {
      "text/plain": [
       "['Media', 'amazon', 'Entertainment', 'Media', 'Video', 'Lauren', 'Indvik']"
      ]
     },
     "execution_count": 336,
     "metadata": {},
     "output_type": "execute_result"
    }
   ],
   "source": [
    "cleann\n",
    "## in the front, after'+' must have a space, or the Mediaamazon will be together."
   ]
  },
  {
   "cell_type": "code",
   "execution_count": 337,
   "metadata": {},
   "outputs": [],
   "source": [
    "# after example and dataset cleaning, need seperate the dataset into train and test part.\n",
    "from sklearn.metrics import accuracy_score\n",
    "from sklearn.cross_validation import train_test_split"
   ]
  },
  {
   "cell_type": "code",
   "execution_count": null,
   "metadata": {},
   "outputs": [],
   "source": []
  },
  {
   "cell_type": "code",
   "execution_count": null,
   "metadata": {
    "scrolled": true
   },
   "outputs": [],
   "source": []
  },
  {
   "cell_type": "code",
   "execution_count": 339,
   "metadata": {},
   "outputs": [],
   "source": [
    "# then, we need combine two steps together into a function\n",
    "\n",
    "def text_process(data):\n",
    "    \n",
    "    nonpunc = [char for char in data if char not in string.punctuation] # out punctuation\n",
    "    nonpunc=''.join(nonpunc)\n",
    "    \n",
    "    cleann = [words for words in nonpunc if words.lower() not in stopwords.words('english')]\n",
    "    return cleann\n"
   ]
  },
  {
   "cell_type": "code",
   "execution_count": 371,
   "metadata": {},
   "outputs": [],
   "source": [
    "x,y=train.drop(['shares'],axis=1),train['shares']\n"
   ]
  },
  {
   "cell_type": "code",
   "execution_count": 340,
   "metadata": {
    "scrolled": true
   },
   "outputs": [],
   "source": [
    "bow_CountVectorizer = CountVectorizer(analyzer=text_process)\n",
    "transformer=TfidfTransformer()"
   ]
  },
  {
   "cell_type": "code",
   "execution_count": 364,
   "metadata": {
    "scrolled": true
   },
   "outputs": [],
   "source": [
    "tfidf=transformer.fit_transform(bow_CountVectorizer.fit_transform(x['lists']))"
   ]
  },
  {
   "cell_type": "code",
   "execution_count": 365,
   "metadata": {
    "scrolled": true
   },
   "outputs": [
    {
     "data": {
      "text/plain": [
       "<3436x51 sparse matrix of type '<class 'numpy.float64'>'\n",
       "\twith 49222 stored elements in Compressed Sparse Row format>"
      ]
     },
     "execution_count": 365,
     "metadata": {},
     "output_type": "execute_result"
    }
   ],
   "source": [
    "tfidf"
   ]
  },
  {
   "cell_type": "code",
   "execution_count": 366,
   "metadata": {},
   "outputs": [],
   "source": [
    "x_train, x_test, y_train, y_test = train_test_split( tfidf, y, test_size = 0.3, random_state = 100)"
   ]
  },
  {
   "cell_type": "code",
   "execution_count": 367,
   "metadata": {},
   "outputs": [],
   "source": [
    "from sklearn.naive_bayes import MultinomialNB\n",
    "\n",
    "model = MultinomialNB().fit(x_train,y_train)"
   ]
  },
  {
   "cell_type": "code",
   "execution_count": 368,
   "metadata": {
    "scrolled": true
   },
   "outputs": [],
   "source": [
    "\n",
    "predictions = model.predict(x_test)"
   ]
  },
  {
   "cell_type": "code",
   "execution_count": 370,
   "metadata": {},
   "outputs": [],
   "source": [
    "#rint(\"Accuracy is\", accuracy_score(predictions,y_test))"
   ]
  },
  {
   "cell_type": "code",
   "execution_count": null,
   "metadata": {},
   "outputs": [],
   "source": []
  }
 ],
 "metadata": {
  "kernelspec": {
   "display_name": "Python 3",
   "language": "python",
   "name": "python3"
  },
  "language_info": {
   "codemirror_mode": {
    "name": "ipython",
    "version": 3
   },
   "file_extension": ".py",
   "mimetype": "text/x-python",
   "name": "python",
   "nbconvert_exporter": "python",
   "pygments_lexer": "ipython3",
   "version": "3.6.3"
  }
 },
 "nbformat": 4,
 "nbformat_minor": 2
}
