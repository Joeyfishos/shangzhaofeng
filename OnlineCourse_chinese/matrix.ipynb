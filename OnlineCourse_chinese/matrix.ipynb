{
 "cells": [
  {
   "cell_type": "markdown",
   "metadata": {},
   "source": [
    "create array\n"
   ]
  },
  {
   "cell_type": "code",
   "execution_count": 4,
   "metadata": {},
   "outputs": [],
   "source": [
    "import numpy as np\n",
    "import "
   ]
  },
  {
   "cell_type": "code",
   "execution_count": 5,
   "metadata": {},
   "outputs": [
    {
     "data": {
      "text/plain": [
       "array([ 0.48692499,  0.17877253, -0.32353184,  0.78486116, -0.67842303,\n",
       "       -0.34538756,  2.30375625,  0.96940662, -1.16190556, -0.43538753])"
      ]
     },
     "execution_count": 5,
     "metadata": {},
     "output_type": "execute_result"
    }
   ],
   "source": [
    "np.random.randn(10)"
   ]
  },
  {
   "cell_type": "code",
   "execution_count": 6,
   "metadata": {},
   "outputs": [
    {
     "data": {
      "text/plain": [
       "2"
      ]
     },
     "execution_count": 6,
     "metadata": {},
     "output_type": "execute_result"
    }
   ],
   "source": [
    "np.random.randint(10)"
   ]
  },
  {
   "cell_type": "code",
   "execution_count": 7,
   "metadata": {},
   "outputs": [
    {
     "data": {
      "text/plain": [
       "array([[9, 5, 9],\n",
       "       [8, 0, 3]])"
      ]
     },
     "execution_count": 7,
     "metadata": {},
     "output_type": "execute_result"
    }
   ],
   "source": [
    "np.random.randint(10,size=(2,3))"
   ]
  },
  {
   "cell_type": "code",
   "execution_count": 8,
   "metadata": {},
   "outputs": [
    {
     "data": {
      "text/plain": [
       "array([[0, 1, 4, 3, 5],\n",
       "       [9, 1, 3, 7, 0],\n",
       "       [3, 8, 4, 8, 1],\n",
       "       [4, 9, 3, 6, 7]])"
      ]
     },
     "execution_count": 8,
     "metadata": {},
     "output_type": "execute_result"
    }
   ],
   "source": [
    "np.random.randint(10,size=20).reshape(4,5)"
   ]
  },
  {
   "cell_type": "code",
   "execution_count": 9,
   "metadata": {},
   "outputs": [],
   "source": [
    "a=np.random.randint(10,size=20).reshape(4,5)\n",
    "b=np.random.randint(10,size=20).reshape(4,5)"
   ]
  },
  {
   "cell_type": "code",
   "execution_count": 10,
   "metadata": {},
   "outputs": [
    {
     "data": {
      "text/plain": [
       "array([[ 7,  6,  9,  5, 15],\n",
       "       [ 1,  9,  4, 11,  6],\n",
       "       [ 8, 11,  9, 13,  4],\n",
       "       [ 4, 13,  9, 11,  7]])"
      ]
     },
     "execution_count": 10,
     "metadata": {},
     "output_type": "execute_result"
    }
   ],
   "source": [
    "a+b"
   ]
  },
  {
   "cell_type": "code",
   "execution_count": 11,
   "metadata": {},
   "outputs": [
    {
     "data": {
      "text/plain": [
       "array([[10,  9, 14,  4, 56],\n",
       "       [ 0, 14,  3, 30,  0],\n",
       "       [ 0, 18,  8, 40,  4],\n",
       "       [ 4, 42, 20, 30, 12]])"
      ]
     },
     "execution_count": 11,
     "metadata": {},
     "output_type": "execute_result"
    }
   ],
   "source": [
    "a*b  #数组对应元素相乘，不是矩阵乘法"
   ]
  },
  {
   "cell_type": "code",
   "execution_count": 12,
   "metadata": {},
   "outputs": [],
   "source": [
    "q=np.mat([[1,2,3],[4,5,6]])\n",
    "p=np.mat([[1,2],[3,4],[5,6]])"
   ]
  },
  {
   "cell_type": "code",
   "execution_count": 13,
   "metadata": {},
   "outputs": [
    {
     "data": {
      "text/plain": [
       "matrix([[5, 3, 2, 4, 7],\n",
       "        [1, 2, 1, 5, 0],\n",
       "        [0, 2, 8, 8, 2],\n",
       "        [2, 6, 4, 6, 3]])"
      ]
     },
     "execution_count": 13,
     "metadata": {},
     "output_type": "execute_result"
    }
   ],
   "source": [
    "np.mat(a)#矩阵与数组互换"
   ]
  },
  {
   "cell_type": "code",
   "execution_count": 14,
   "metadata": {},
   "outputs": [
    {
     "data": {
      "text/plain": [
       "array([[5, 3, 2, 4, 7],\n",
       "       [1, 2, 1, 5, 0],\n",
       "       [0, 2, 8, 8, 2],\n",
       "       [2, 6, 4, 6, 3]])"
      ]
     },
     "execution_count": 14,
     "metadata": {},
     "output_type": "execute_result"
    }
   ],
   "source": [
    "a"
   ]
  },
  {
   "cell_type": "code",
   "execution_count": 15,
   "metadata": {},
   "outputs": [
    {
     "data": {
      "text/plain": [
       "matrix([[22, 28],\n",
       "        [49, 64]])"
      ]
     },
     "execution_count": 15,
     "metadata": {},
     "output_type": "execute_result"
    }
   ],
   "source": [
    "q*p#矩阵乘法符合规则"
   ]
  },
  {
   "cell_type": "markdown",
   "metadata": {},
   "source": [
    "Array function lib"
   ]
  },
  {
   "cell_type": "code",
   "execution_count": 16,
   "metadata": {},
   "outputs": [],
   "source": [
    "a=np.random.randint(10,size=20).reshape(4,5)"
   ]
  },
  {
   "cell_type": "code",
   "execution_count": 17,
   "metadata": {},
   "outputs": [
    {
     "data": {
      "text/plain": [
       "array([[9, 5, 4, 5, 2],\n",
       "       [9, 6, 8, 7, 8],\n",
       "       [2, 7, 0, 6, 9],\n",
       "       [6, 4, 2, 7, 5]])"
      ]
     },
     "execution_count": 17,
     "metadata": {},
     "output_type": "execute_result"
    }
   ],
   "source": [
    "a"
   ]
  },
  {
   "cell_type": "code",
   "execution_count": 18,
   "metadata": {},
   "outputs": [
    {
     "data": {
      "text/plain": [
       "array([26, 22, 14, 25, 24])"
      ]
     },
     "execution_count": 18,
     "metadata": {},
     "output_type": "execute_result"
    }
   ],
   "source": [
    "sum(a)#列相加"
   ]
  },
  {
   "cell_type": "code",
   "execution_count": 19,
   "metadata": {},
   "outputs": [
    {
     "data": {
      "text/plain": [
       "25"
      ]
     },
     "execution_count": 19,
     "metadata": {},
     "output_type": "execute_result"
    }
   ],
   "source": [
    "sum(a[0])#行相加"
   ]
  },
  {
   "cell_type": "code",
   "execution_count": 20,
   "metadata": {},
   "outputs": [
    {
     "data": {
      "text/plain": [
       "array([[9, 5],\n",
       "       [9, 6],\n",
       "       [2, 7],\n",
       "       [6, 4]])"
      ]
     },
     "execution_count": 20,
     "metadata": {},
     "output_type": "execute_result"
    }
   ],
   "source": [
    "a[:,0:2]"
   ]
  },
  {
   "cell_type": "code",
   "execution_count": 21,
   "metadata": {},
   "outputs": [
    {
     "data": {
      "text/plain": [
       "array([26, 22])"
      ]
     },
     "execution_count": 21,
     "metadata": {},
     "output_type": "execute_result"
    }
   ],
   "source": [
    "sum(a[:,0:2])"
   ]
  },
  {
   "cell_type": "code",
   "execution_count": 22,
   "metadata": {},
   "outputs": [
    {
     "data": {
      "text/plain": [
       "array([[9],\n",
       "       [9],\n",
       "       [2],\n",
       "       [6]])"
      ]
     },
     "execution_count": 22,
     "metadata": {},
     "output_type": "execute_result"
    }
   ],
   "source": [
    "a[:,0:1]#列返回"
   ]
  },
  {
   "cell_type": "code",
   "execution_count": 23,
   "metadata": {},
   "outputs": [
    {
     "data": {
      "text/plain": [
       "array([9, 9, 2, 6])"
      ]
     },
     "execution_count": 23,
     "metadata": {},
     "output_type": "execute_result"
    }
   ],
   "source": [
    "a[:,0]#以单数组返回"
   ]
  },
  {
   "cell_type": "code",
   "execution_count": 24,
   "metadata": {},
   "outputs": [
    {
     "data": {
      "text/plain": [
       "26"
      ]
     },
     "execution_count": 24,
     "metadata": {},
     "output_type": "execute_result"
    }
   ],
   "source": [
    "sum(a[:,0])"
   ]
  },
  {
   "cell_type": "code",
   "execution_count": 25,
   "metadata": {},
   "outputs": [],
   "source": [
    "# arrayN维数组：\n",
    "# list_2=[5,6,7,8]\n",
    "# array_2=np.array([list_1,list_2])\n",
    "# array_2.shape  （2，4）\n",
    "# array_2.size\n",
    "# array_2.dtype\n",
    "# np.zeros(5) #全零\n",
    "# np.eye(5) #单位矩阵\n",
    "# a=np.arange(1,10)#创建一维数组用arange\n",
    "# array([[1, 2, 3],\n",
    "#        [4, 5, 6],\n",
    "#        [7, 8, 9]])\n",
    "# Input:\n",
    "#  c[0:1,1:2]\t# 第一个为行、二为列，记住从零开始、最后一个都不要，故相当于[0:0,1:1],0行的第一列\n",
    "# Out[27]:\n",
    "#          array([[2]])\n",
    "\n",
    "# 正态分布随机数组：\n",
    "# np.random.randn(10)\n",
    "# np.random.randint(10,size=(2,3))\n",
    "# np.random.randint(10,size=20).reshape(4,5)  #取10以内20个数，搞成45的数组\n",
    "\n",
    "\n",
    "# 数组的函数：\n",
    "\n",
    "\n",
    "# a[:,0:4]  #表示所有行，0到3列的元素\n",
    "\n",
    "# a[:,0]  \t#表示所有行，且是第一列，以数组返回\n",
    "# array([1, 2, 4, 0])\n",
    "# a[:,0:1]\t#表示所有行，且是第一列，以列返回\n",
    "# array([[1],\n",
    "#        [2],\n",
    "#        [4],\n",
    "#        [0]])\n",
    "\n",
    "\n",
    "\n",
    "# 创建矩阵：\n",
    "# q=np.mat([[1,2,3],[4,5,6]])\n",
    "\n",
    "# p=np.mat([[1,2],[3,4],[5,6]])\n",
    "# np.mat(a)#矩阵与数组互换\n"
   ]
  },
  {
   "cell_type": "code",
   "execution_count": 26,
   "metadata": {},
   "outputs": [],
   "source": [
    "x=np.arange(10)"
   ]
  },
  {
   "cell_type": "code",
   "execution_count": 27,
   "metadata": {},
   "outputs": [
    {
     "data": {
      "text/plain": [
       "array([0, 1, 2, 3, 4, 5, 6, 7, 8, 9])"
      ]
     },
     "execution_count": 27,
     "metadata": {},
     "output_type": "execute_result"
    }
   ],
   "source": [
    "x"
   ]
  },
  {
   "cell_type": "code",
   "execution_count": 28,
   "metadata": {},
   "outputs": [
    {
     "data": {
      "text/plain": [
       "array([81, 37, 91, 43, 65, 97, 93, 50, 31, 59, 40, 83, 35, 55, 46, 49, 55,\n",
       "       74, 36, 33])"
      ]
     },
     "execution_count": 28,
     "metadata": {},
     "output_type": "execute_result"
    }
   ],
   "source": [
    "score_list=np.random.randint(30,100,20)\n",
    "score_list"
   ]
  },
  {
   "cell_type": "code",
   "execution_count": 63,
   "metadata": {},
   "outputs": [],
   "source": [
    "import pandas as pd\n",
    "s2 = Series(np.random.rand(100),index=pd.date_range(start='20170101',periods=100))"
   ]
  },
  {
   "cell_type": "code",
   "execution_count": 64,
   "metadata": {},
   "outputs": [],
   "source": [
    "t=pd.date_range(start='2017-01-01',end='2017-02-01',freq='w')"
   ]
  },
  {
   "cell_type": "code",
   "execution_count": 65,
   "metadata": {},
   "outputs": [
    {
     "data": {
      "text/plain": [
       "2017-01-01    0.140938\n",
       "2017-01-02    0.429244\n",
       "2017-01-03    0.589315\n",
       "2017-01-04    0.020201\n",
       "2017-01-05    0.440960\n",
       "2017-01-06    0.792690\n",
       "2017-01-07    0.472845\n",
       "2017-01-08    0.421831\n",
       "2017-01-09    0.244639\n",
       "2017-01-10    0.612651\n",
       "2017-01-11    0.135461\n",
       "2017-01-12    0.002564\n",
       "2017-01-13    0.749217\n",
       "2017-01-14    0.230242\n",
       "2017-01-15    0.908710\n",
       "2017-01-16    0.270517\n",
       "2017-01-17    0.201417\n",
       "2017-01-18    0.247055\n",
       "2017-01-19    0.221822\n",
       "2017-01-20    0.939826\n",
       "2017-01-21    0.063380\n",
       "2017-01-22    0.268782\n",
       "2017-01-23    0.584288\n",
       "2017-01-24    0.707229\n",
       "2017-01-25    0.293856\n",
       "2017-01-26    0.405720\n",
       "2017-01-27    0.053494\n",
       "2017-01-28    0.041184\n",
       "2017-01-29    0.081220\n",
       "2017-01-30    0.442935\n",
       "                ...   \n",
       "2017-03-12    0.040664\n",
       "2017-03-13    0.539132\n",
       "2017-03-14    0.844086\n",
       "2017-03-15    0.715450\n",
       "2017-03-16    0.772850\n",
       "2017-03-17    0.064573\n",
       "2017-03-18    0.328584\n",
       "2017-03-19    0.717127\n",
       "2017-03-20    0.498239\n",
       "2017-03-21    0.641492\n",
       "2017-03-22    0.886316\n",
       "2017-03-23    0.498313\n",
       "2017-03-24    0.023388\n",
       "2017-03-25    0.502556\n",
       "2017-03-26    0.621017\n",
       "2017-03-27    0.041984\n",
       "2017-03-28    0.031773\n",
       "2017-03-29    0.519109\n",
       "2017-03-30    0.986009\n",
       "2017-03-31    0.233514\n",
       "2017-04-01    0.831015\n",
       "2017-04-02    0.619583\n",
       "2017-04-03    0.166911\n",
       "2017-04-04    0.984805\n",
       "2017-04-05    0.854844\n",
       "2017-04-06    0.474303\n",
       "2017-04-07    0.720513\n",
       "2017-04-08    0.950693\n",
       "2017-04-09    0.175952\n",
       "2017-04-10    0.046200\n",
       "Freq: D, Length: 100, dtype: float64"
      ]
     },
     "execution_count": 65,
     "metadata": {},
     "output_type": "execute_result"
    }
   ],
   "source": [
    "s2"
   ]
  },
  {
   "cell_type": "code",
   "execution_count": null,
   "metadata": {},
   "outputs": [],
   "source": []
  }
 ],
 "metadata": {
  "kernelspec": {
   "display_name": "Python 3",
   "language": "python",
   "name": "python3"
  },
  "language_info": {
   "codemirror_mode": {
    "name": "ipython",
    "version": 3
   },
   "file_extension": ".py",
   "mimetype": "text/x-python",
   "name": "python",
   "nbconvert_exporter": "python",
   "pygments_lexer": "ipython3",
   "version": "3.6.3"
  }
 },
 "nbformat": 4,
 "nbformat_minor": 2
}
