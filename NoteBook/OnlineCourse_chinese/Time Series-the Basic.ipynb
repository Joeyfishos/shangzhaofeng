{
 "cells": [
  {
   "cell_type": "code",
   "execution_count": 35,
   "metadata": {},
   "outputs": [],
   "source": [
    "import numpy as np\n",
    "import pandas as pd\n",
    "from pandas import Series,DataFrame"
   ]
  },
  {
   "cell_type": "code",
   "execution_count": 47,
   "metadata": {},
   "outputs": [],
   "source": [
    "import datetime"
   ]
  },
  {
   "cell_type": "code",
   "execution_count": 48,
   "metadata": {},
   "outputs": [],
   "source": [
    "t=datetime.datetime(2017,1,14)"
   ]
  },
  {
   "cell_type": "code",
   "execution_count": 49,
   "metadata": {},
   "outputs": [
    {
     "data": {
      "text/plain": [
       "datetime.datetime(2017, 1, 14, 0, 0)"
      ]
     },
     "execution_count": 49,
     "metadata": {},
     "output_type": "execute_result"
    }
   ],
   "source": [
    "t"
   ]
  },
  {
   "cell_type": "code",
   "execution_count": 50,
   "metadata": {},
   "outputs": [],
   "source": [
    "t_list=[\n",
    "    datetime.datetime(2017,1,15),\n",
    "    datetime.datetime(2017,1,16),\n",
    "    datetime.datetime(2017,1,17),\n",
    "    datetime.datetime(2017,1,18),\n",
    "    datetime.datetime(2017,1,19)\n",
    "]"
   ]
  },
  {
   "cell_type": "code",
   "execution_count": 51,
   "metadata": {},
   "outputs": [
    {
     "data": {
      "text/plain": [
       "2017-01-15    0.860460\n",
       "2017-01-16    0.057292\n",
       "2017-01-17    0.996393\n",
       "2017-01-18    0.198395\n",
       "2017-01-19    0.457302\n",
       "dtype: float64"
      ]
     },
     "execution_count": 51,
     "metadata": {},
     "output_type": "execute_result"
    }
   ],
   "source": [
    "s1=Series(np.random.rand(5),index=t_list)\n",
    "s1#  THIS IS A Time Series"
   ]
  },
  {
   "cell_type": "code",
   "execution_count": 52,
   "metadata": {},
   "outputs": [
    {
     "data": {
      "text/plain": [
       "2017-01-15    0.860460\n",
       "2017-01-16    0.057292\n",
       "2017-01-17    0.996393\n",
       "2017-01-18    0.198395\n",
       "2017-01-19    0.457302\n",
       "dtype: float64"
      ]
     },
     "execution_count": 52,
     "metadata": {},
     "output_type": "execute_result"
    }
   ],
   "source": [
    "s1['2017']"
   ]
  },
  {
   "cell_type": "code",
   "execution_count": 53,
   "metadata": {},
   "outputs": [],
   "source": [
    "t=pd.date_range(start='2017-01-01',end='2017-02-01',freq='w')"
   ]
  },
  {
   "cell_type": "code",
   "execution_count": 54,
   "metadata": {},
   "outputs": [
    {
     "data": {
      "text/plain": [
       "DatetimeIndex(['2017-01-01', '2017-01-08', '2017-01-15', '2017-01-22',\n",
       "               '2017-01-29'],\n",
       "              dtype='datetime64[ns]', freq='W-SUN')"
      ]
     },
     "execution_count": 54,
     "metadata": {},
     "output_type": "execute_result"
    }
   ],
   "source": [
    "t"
   ]
  },
  {
   "cell_type": "code",
   "execution_count": 55,
   "metadata": {},
   "outputs": [],
   "source": [
    "t=pd.date_range(start='2017-01-01',freq='w',periods=10)"
   ]
  },
  {
   "cell_type": "code",
   "execution_count": 56,
   "metadata": {},
   "outputs": [
    {
     "data": {
      "text/plain": [
       "DatetimeIndex(['2017-01-01', '2017-01-08', '2017-01-15', '2017-01-22',\n",
       "               '2017-01-29', '2017-02-05', '2017-02-12', '2017-02-19',\n",
       "               '2017-02-26', '2017-03-05'],\n",
       "              dtype='datetime64[ns]', freq='W-SUN')"
      ]
     },
     "execution_count": 56,
     "metadata": {},
     "output_type": "execute_result"
    }
   ],
   "source": [
    "t"
   ]
  },
  {
   "cell_type": "code",
   "execution_count": 57,
   "metadata": {},
   "outputs": [],
   "source": [
    "s2 = Series(np.random.rand(100),index=pd.date_range(start='20170101',periods=100))"
   ]
  },
  {
   "cell_type": "code",
   "execution_count": 58,
   "metadata": {},
   "outputs": [
    {
     "data": {
      "text/plain": [
       "2017-01-01    0.378134\n",
       "2017-01-02    0.367494\n",
       "2017-01-03    0.095559\n",
       "2017-01-04    0.890628\n",
       "2017-01-05    0.708536\n",
       "2017-01-06    0.452799\n",
       "2017-01-07    0.008066\n",
       "2017-01-08    0.635954\n",
       "2017-01-09    0.376658\n",
       "2017-01-10    0.496881\n",
       "2017-01-11    0.615409\n",
       "2017-01-12    0.006410\n",
       "2017-01-13    0.519833\n",
       "2017-01-14    0.126391\n",
       "2017-01-15    0.548005\n",
       "2017-01-16    0.987694\n",
       "2017-01-17    0.270780\n",
       "2017-01-18    0.734162\n",
       "2017-01-19    0.750395\n",
       "2017-01-20    0.368034\n",
       "2017-01-21    0.232358\n",
       "2017-01-22    0.759800\n",
       "2017-01-23    0.515391\n",
       "2017-01-24    0.721884\n",
       "2017-01-25    0.069515\n",
       "2017-01-26    0.765448\n",
       "2017-01-27    0.418295\n",
       "2017-01-28    0.373980\n",
       "2017-01-29    0.487782\n",
       "2017-01-30    0.661258\n",
       "                ...   \n",
       "2017-03-12    0.285302\n",
       "2017-03-13    0.013266\n",
       "2017-03-14    0.602445\n",
       "2017-03-15    0.612331\n",
       "2017-03-16    0.835177\n",
       "2017-03-17    0.447360\n",
       "2017-03-18    0.631001\n",
       "2017-03-19    0.531498\n",
       "2017-03-20    0.505075\n",
       "2017-03-21    0.440185\n",
       "2017-03-22    0.632602\n",
       "2017-03-23    0.156511\n",
       "2017-03-24    0.319996\n",
       "2017-03-25    0.972036\n",
       "2017-03-26    0.928154\n",
       "2017-03-27    0.365505\n",
       "2017-03-28    0.344480\n",
       "2017-03-29    0.937318\n",
       "2017-03-30    0.887692\n",
       "2017-03-31    0.960677\n",
       "2017-04-01    0.069205\n",
       "2017-04-02    0.877841\n",
       "2017-04-03    0.439370\n",
       "2017-04-04    0.928902\n",
       "2017-04-05    0.194415\n",
       "2017-04-06    0.876900\n",
       "2017-04-07    0.306816\n",
       "2017-04-08    0.887451\n",
       "2017-04-09    0.799309\n",
       "2017-04-10    0.608624\n",
       "Freq: D, Length: 100, dtype: float64"
      ]
     },
     "execution_count": 58,
     "metadata": {},
     "output_type": "execute_result"
    }
   ],
   "source": [
    "s2"
   ]
  },
  {
   "cell_type": "code",
   "execution_count": null,
   "metadata": {},
   "outputs": [],
   "source": []
  },
  {
   "cell_type": "code",
   "execution_count": null,
   "metadata": {},
   "outputs": [],
   "source": []
  },
  {
   "cell_type": "code",
   "execution_count": null,
   "metadata": {},
   "outputs": [],
   "source": []
  },
  {
   "cell_type": "code",
   "execution_count": null,
   "metadata": {},
   "outputs": [],
   "source": []
  },
  {
   "cell_type": "code",
   "execution_count": null,
   "metadata": {},
   "outputs": [],
   "source": []
  }
 ],
 "metadata": {
  "kernelspec": {
   "display_name": "Python 3",
   "language": "python",
   "name": "python3"
  },
  "language_info": {
   "codemirror_mode": {
    "name": "ipython",
    "version": 3
   },
   "file_extension": ".py",
   "mimetype": "text/x-python",
   "name": "python",
   "nbconvert_exporter": "python",
   "pygments_lexer": "ipython3",
   "version": "3.6.3"
  }
 },
 "nbformat": 4,
 "nbformat_minor": 2
}
