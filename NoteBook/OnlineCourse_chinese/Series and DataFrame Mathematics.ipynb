{
 "cells": [
  {
   "cell_type": "code",
   "execution_count": 5,
   "metadata": {},
   "outputs": [],
   "source": [
    "import numpy as np\n",
    "import pandas as pd\n",
    "from pandas import Series,DataFrame"
   ]
  },
  {
   "cell_type": "markdown",
   "metadata": {},
   "source": [
    "# Series"
   ]
  },
  {
   "cell_type": "code",
   "execution_count": 6,
   "metadata": {},
   "outputs": [
    {
     "data": {
      "text/plain": [
       "0    0.628919\n",
       "1    0.428793\n",
       "2    0.401072\n",
       "3    0.425424\n",
       "4    0.745735\n",
       "5    0.766042\n",
       "6    0.108874\n",
       "7    0.425326\n",
       "8    0.914087\n",
       "9    0.664519\n",
       "dtype: float64"
      ]
     },
     "execution_count": 6,
     "metadata": {},
     "output_type": "execute_result"
    }
   ],
   "source": [
    "s=Series(np.random.rand(10))\n",
    "s"
   ]
  },
  {
   "cell_type": "code",
   "execution_count": 7,
   "metadata": {},
   "outputs": [
    {
     "data": {
      "text/plain": [
       "9    0.664519\n",
       "8    0.914087\n",
       "7    0.425326\n",
       "6    0.108874\n",
       "5    0.766042\n",
       "4    0.745735\n",
       "3    0.425424\n",
       "2    0.401072\n",
       "1    0.428793\n",
       "0    0.628919\n",
       "dtype: float64"
      ]
     },
     "execution_count": 7,
     "metadata": {},
     "output_type": "execute_result"
    }
   ],
   "source": [
    "s.sort_index(ascending=False)"
   ]
  },
  {
   "cell_type": "code",
   "execution_count": 8,
   "metadata": {},
   "outputs": [
    {
     "data": {
      "text/plain": [
       "0.91408692789808288"
      ]
     },
     "execution_count": 8,
     "metadata": {},
     "output_type": "execute_result"
    }
   ],
   "source": [
    "s.max()"
   ]
  },
  {
   "cell_type": "code",
   "execution_count": 9,
   "metadata": {},
   "outputs": [
    {
     "data": {
      "text/plain": [
       "0.5508792627203144"
      ]
     },
     "execution_count": 9,
     "metadata": {},
     "output_type": "execute_result"
    }
   ],
   "source": [
    "s.mean()"
   ]
  },
  {
   "cell_type": "code",
   "execution_count": 10,
   "metadata": {},
   "outputs": [],
   "source": [
    "s1 = Series([1,2,3],index=['A','B','C'])\n",
    "s2 = Series([4,5,6],index=['A','M','N'])"
   ]
  },
  {
   "cell_type": "code",
   "execution_count": 11,
   "metadata": {},
   "outputs": [
    {
     "data": {
      "text/plain": [
       "A    4\n",
       "M    5\n",
       "N    6\n",
       "dtype: int64"
      ]
     },
     "execution_count": 11,
     "metadata": {},
     "output_type": "execute_result"
    }
   ],
   "source": [
    "s1\n",
    "s2"
   ]
  },
  {
   "cell_type": "code",
   "execution_count": 12,
   "metadata": {},
   "outputs": [
    {
     "data": {
      "text/plain": [
       "A    5.0\n",
       "B    NaN\n",
       "C    NaN\n",
       "M    NaN\n",
       "N    NaN\n",
       "dtype: float64"
      ]
     },
     "execution_count": 12,
     "metadata": {},
     "output_type": "execute_result"
    }
   ],
   "source": [
    "s1+s2"
   ]
  },
  {
   "cell_type": "markdown",
   "metadata": {},
   "source": [
    "# DataFrame"
   ]
  },
  {
   "cell_type": "code",
   "execution_count": 13,
   "metadata": {},
   "outputs": [],
   "source": [
    "df=DataFrame(np.random.rand(20).reshape(4,5))"
   ]
  },
  {
   "cell_type": "code",
   "execution_count": 14,
   "metadata": {},
   "outputs": [
    {
     "data": {
      "text/html": [
       "<div>\n",
       "<style scoped>\n",
       "    .dataframe tbody tr th:only-of-type {\n",
       "        vertical-align: middle;\n",
       "    }\n",
       "\n",
       "    .dataframe tbody tr th {\n",
       "        vertical-align: top;\n",
       "    }\n",
       "\n",
       "    .dataframe thead th {\n",
       "        text-align: right;\n",
       "    }\n",
       "</style>\n",
       "<table border=\"1\" class=\"dataframe\">\n",
       "  <thead>\n",
       "    <tr style=\"text-align: right;\">\n",
       "      <th></th>\n",
       "      <th>0</th>\n",
       "      <th>1</th>\n",
       "      <th>2</th>\n",
       "      <th>3</th>\n",
       "      <th>4</th>\n",
       "    </tr>\n",
       "  </thead>\n",
       "  <tbody>\n",
       "    <tr>\n",
       "      <th>0</th>\n",
       "      <td>0.069569</td>\n",
       "      <td>0.724460</td>\n",
       "      <td>0.526303</td>\n",
       "      <td>0.190758</td>\n",
       "      <td>0.521211</td>\n",
       "    </tr>\n",
       "    <tr>\n",
       "      <th>1</th>\n",
       "      <td>0.341463</td>\n",
       "      <td>0.497122</td>\n",
       "      <td>0.412114</td>\n",
       "      <td>0.743645</td>\n",
       "      <td>0.306407</td>\n",
       "    </tr>\n",
       "    <tr>\n",
       "      <th>2</th>\n",
       "      <td>0.585757</td>\n",
       "      <td>0.071697</td>\n",
       "      <td>0.675309</td>\n",
       "      <td>0.881751</td>\n",
       "      <td>0.432571</td>\n",
       "    </tr>\n",
       "    <tr>\n",
       "      <th>3</th>\n",
       "      <td>0.150566</td>\n",
       "      <td>0.995985</td>\n",
       "      <td>0.744682</td>\n",
       "      <td>0.387735</td>\n",
       "      <td>0.607658</td>\n",
       "    </tr>\n",
       "  </tbody>\n",
       "</table>\n",
       "</div>"
      ],
      "text/plain": [
       "          0         1         2         3         4\n",
       "0  0.069569  0.724460  0.526303  0.190758  0.521211\n",
       "1  0.341463  0.497122  0.412114  0.743645  0.306407\n",
       "2  0.585757  0.071697  0.675309  0.881751  0.432571\n",
       "3  0.150566  0.995985  0.744682  0.387735  0.607658"
      ]
     },
     "execution_count": 14,
     "metadata": {},
     "output_type": "execute_result"
    }
   ],
   "source": [
    "df"
   ]
  },
  {
   "cell_type": "code",
   "execution_count": 15,
   "metadata": {
    "scrolled": true
   },
   "outputs": [
    {
     "data": {
      "text/html": [
       "<div>\n",
       "<style scoped>\n",
       "    .dataframe tbody tr th:only-of-type {\n",
       "        vertical-align: middle;\n",
       "    }\n",
       "\n",
       "    .dataframe tbody tr th {\n",
       "        vertical-align: top;\n",
       "    }\n",
       "\n",
       "    .dataframe thead th {\n",
       "        text-align: right;\n",
       "    }\n",
       "</style>\n",
       "<table border=\"1\" class=\"dataframe\">\n",
       "  <thead>\n",
       "    <tr style=\"text-align: right;\">\n",
       "      <th></th>\n",
       "      <th>1</th>\n",
       "      <th>4</th>\n",
       "      <th>0</th>\n",
       "      <th>2</th>\n",
       "      <th>3</th>\n",
       "    </tr>\n",
       "  </thead>\n",
       "  <tbody>\n",
       "    <tr>\n",
       "      <th>0</th>\n",
       "      <td>0.724460</td>\n",
       "      <td>0.521211</td>\n",
       "      <td>0.069569</td>\n",
       "      <td>0.526303</td>\n",
       "      <td>0.190758</td>\n",
       "    </tr>\n",
       "    <tr>\n",
       "      <th>1</th>\n",
       "      <td>0.497122</td>\n",
       "      <td>0.306407</td>\n",
       "      <td>0.341463</td>\n",
       "      <td>0.412114</td>\n",
       "      <td>0.743645</td>\n",
       "    </tr>\n",
       "    <tr>\n",
       "      <th>2</th>\n",
       "      <td>0.071697</td>\n",
       "      <td>0.432571</td>\n",
       "      <td>0.585757</td>\n",
       "      <td>0.675309</td>\n",
       "      <td>0.881751</td>\n",
       "    </tr>\n",
       "    <tr>\n",
       "      <th>3</th>\n",
       "      <td>0.995985</td>\n",
       "      <td>0.607658</td>\n",
       "      <td>0.150566</td>\n",
       "      <td>0.744682</td>\n",
       "      <td>0.387735</td>\n",
       "    </tr>\n",
       "  </tbody>\n",
       "</table>\n",
       "</div>"
      ],
      "text/plain": [
       "          1         4         0         2         3\n",
       "0  0.724460  0.521211  0.069569  0.526303  0.190758\n",
       "1  0.497122  0.306407  0.341463  0.412114  0.743645\n",
       "2  0.071697  0.432571  0.585757  0.675309  0.881751\n",
       "3  0.995985  0.607658  0.150566  0.744682  0.387735"
      ]
     },
     "execution_count": 15,
     "metadata": {},
     "output_type": "execute_result"
    }
   ],
   "source": [
    "df.sort_values(by=2,axis=1)#对第二行对列元素进行排序"
   ]
  },
  {
   "cell_type": "code",
   "execution_count": 16,
   "metadata": {},
   "outputs": [
    {
     "data": {
      "text/html": [
       "<div>\n",
       "<style scoped>\n",
       "    .dataframe tbody tr th:only-of-type {\n",
       "        vertical-align: middle;\n",
       "    }\n",
       "\n",
       "    .dataframe tbody tr th {\n",
       "        vertical-align: top;\n",
       "    }\n",
       "\n",
       "    .dataframe thead th {\n",
       "        text-align: right;\n",
       "    }\n",
       "</style>\n",
       "<table border=\"1\" class=\"dataframe\">\n",
       "  <thead>\n",
       "    <tr style=\"text-align: right;\">\n",
       "      <th></th>\n",
       "      <th>0</th>\n",
       "      <th>1</th>\n",
       "      <th>2</th>\n",
       "      <th>3</th>\n",
       "      <th>4</th>\n",
       "    </tr>\n",
       "  </thead>\n",
       "  <tbody>\n",
       "    <tr>\n",
       "      <th>0</th>\n",
       "      <td>0.069569</td>\n",
       "      <td>0.724460</td>\n",
       "      <td>0.526303</td>\n",
       "      <td>0.190758</td>\n",
       "      <td>0.521211</td>\n",
       "    </tr>\n",
       "    <tr>\n",
       "      <th>1</th>\n",
       "      <td>0.341463</td>\n",
       "      <td>0.497122</td>\n",
       "      <td>0.412114</td>\n",
       "      <td>0.743645</td>\n",
       "      <td>0.306407</td>\n",
       "    </tr>\n",
       "    <tr>\n",
       "      <th>2</th>\n",
       "      <td>0.585757</td>\n",
       "      <td>0.071697</td>\n",
       "      <td>0.675309</td>\n",
       "      <td>0.881751</td>\n",
       "      <td>0.432571</td>\n",
       "    </tr>\n",
       "    <tr>\n",
       "      <th>3</th>\n",
       "      <td>0.150566</td>\n",
       "      <td>0.995985</td>\n",
       "      <td>0.744682</td>\n",
       "      <td>0.387735</td>\n",
       "      <td>0.607658</td>\n",
       "    </tr>\n",
       "  </tbody>\n",
       "</table>\n",
       "</div>"
      ],
      "text/plain": [
       "          0         1         2         3         4\n",
       "0  0.069569  0.724460  0.526303  0.190758  0.521211\n",
       "1  0.341463  0.497122  0.412114  0.743645  0.306407\n",
       "2  0.585757  0.071697  0.675309  0.881751  0.432571\n",
       "3  0.150566  0.995985  0.744682  0.387735  0.607658"
      ]
     },
     "execution_count": 16,
     "metadata": {},
     "output_type": "execute_result"
    }
   ],
   "source": [
    "df"
   ]
  },
  {
   "cell_type": "code",
   "execution_count": 17,
   "metadata": {},
   "outputs": [
    {
     "data": {
      "text/html": [
       "<div>\n",
       "<style scoped>\n",
       "    .dataframe tbody tr th:only-of-type {\n",
       "        vertical-align: middle;\n",
       "    }\n",
       "\n",
       "    .dataframe tbody tr th {\n",
       "        vertical-align: top;\n",
       "    }\n",
       "\n",
       "    .dataframe thead th {\n",
       "        text-align: right;\n",
       "    }\n",
       "</style>\n",
       "<table border=\"1\" class=\"dataframe\">\n",
       "  <thead>\n",
       "    <tr style=\"text-align: right;\">\n",
       "      <th></th>\n",
       "      <th>0</th>\n",
       "      <th>1</th>\n",
       "      <th>2</th>\n",
       "      <th>3</th>\n",
       "      <th>4</th>\n",
       "    </tr>\n",
       "  </thead>\n",
       "  <tbody>\n",
       "    <tr>\n",
       "      <th>0</th>\n",
       "      <td>0.069569</td>\n",
       "      <td>0.724460</td>\n",
       "      <td>0.526303</td>\n",
       "      <td>0.190758</td>\n",
       "      <td>0.521211</td>\n",
       "    </tr>\n",
       "    <tr>\n",
       "      <th>1</th>\n",
       "      <td>0.341463</td>\n",
       "      <td>0.497122</td>\n",
       "      <td>0.412114</td>\n",
       "      <td>0.743645</td>\n",
       "      <td>0.306407</td>\n",
       "    </tr>\n",
       "    <tr>\n",
       "      <th>2</th>\n",
       "      <td>0.585757</td>\n",
       "      <td>0.071697</td>\n",
       "      <td>0.675309</td>\n",
       "      <td>0.881751</td>\n",
       "      <td>0.432571</td>\n",
       "    </tr>\n",
       "    <tr>\n",
       "      <th>3</th>\n",
       "      <td>0.150566</td>\n",
       "      <td>0.995985</td>\n",
       "      <td>0.744682</td>\n",
       "      <td>0.387735</td>\n",
       "      <td>0.607658</td>\n",
       "    </tr>\n",
       "  </tbody>\n",
       "</table>\n",
       "</div>"
      ],
      "text/plain": [
       "          0         1         2         3         4\n",
       "0  0.069569  0.724460  0.526303  0.190758  0.521211\n",
       "1  0.341463  0.497122  0.412114  0.743645  0.306407\n",
       "2  0.585757  0.071697  0.675309  0.881751  0.432571\n",
       "3  0.150566  0.995985  0.744682  0.387735  0.607658"
      ]
     },
     "execution_count": 17,
     "metadata": {},
     "output_type": "execute_result"
    }
   ],
   "source": [
    "df.sort_index()"
   ]
  },
  {
   "cell_type": "code",
   "execution_count": 18,
   "metadata": {},
   "outputs": [],
   "source": [
    "df1=DataFrame(np.random.rand(20).reshape(4,5),index=['c','b','a','d'])"
   ]
  },
  {
   "cell_type": "code",
   "execution_count": 19,
   "metadata": {},
   "outputs": [
    {
     "data": {
      "text/html": [
       "<div>\n",
       "<style scoped>\n",
       "    .dataframe tbody tr th:only-of-type {\n",
       "        vertical-align: middle;\n",
       "    }\n",
       "\n",
       "    .dataframe tbody tr th {\n",
       "        vertical-align: top;\n",
       "    }\n",
       "\n",
       "    .dataframe thead th {\n",
       "        text-align: right;\n",
       "    }\n",
       "</style>\n",
       "<table border=\"1\" class=\"dataframe\">\n",
       "  <thead>\n",
       "    <tr style=\"text-align: right;\">\n",
       "      <th></th>\n",
       "      <th>0</th>\n",
       "      <th>1</th>\n",
       "      <th>2</th>\n",
       "      <th>3</th>\n",
       "      <th>4</th>\n",
       "    </tr>\n",
       "  </thead>\n",
       "  <tbody>\n",
       "    <tr>\n",
       "      <th>c</th>\n",
       "      <td>0.855298</td>\n",
       "      <td>0.562440</td>\n",
       "      <td>0.172670</td>\n",
       "      <td>0.069635</td>\n",
       "      <td>0.801361</td>\n",
       "    </tr>\n",
       "    <tr>\n",
       "      <th>b</th>\n",
       "      <td>0.320398</td>\n",
       "      <td>0.502341</td>\n",
       "      <td>0.500382</td>\n",
       "      <td>0.858191</td>\n",
       "      <td>0.715328</td>\n",
       "    </tr>\n",
       "    <tr>\n",
       "      <th>a</th>\n",
       "      <td>0.484631</td>\n",
       "      <td>0.610638</td>\n",
       "      <td>0.434876</td>\n",
       "      <td>0.293721</td>\n",
       "      <td>0.475293</td>\n",
       "    </tr>\n",
       "    <tr>\n",
       "      <th>d</th>\n",
       "      <td>0.448429</td>\n",
       "      <td>0.502194</td>\n",
       "      <td>0.097870</td>\n",
       "      <td>0.156136</td>\n",
       "      <td>0.301547</td>\n",
       "    </tr>\n",
       "  </tbody>\n",
       "</table>\n",
       "</div>"
      ],
      "text/plain": [
       "          0         1         2         3         4\n",
       "c  0.855298  0.562440  0.172670  0.069635  0.801361\n",
       "b  0.320398  0.502341  0.500382  0.858191  0.715328\n",
       "a  0.484631  0.610638  0.434876  0.293721  0.475293\n",
       "d  0.448429  0.502194  0.097870  0.156136  0.301547"
      ]
     },
     "execution_count": 19,
     "metadata": {},
     "output_type": "execute_result"
    }
   ],
   "source": [
    "df1"
   ]
  },
  {
   "cell_type": "code",
   "execution_count": 27,
   "metadata": {},
   "outputs": [
    {
     "data": {
      "text/html": [
       "<div>\n",
       "<style scoped>\n",
       "    .dataframe tbody tr th:only-of-type {\n",
       "        vertical-align: middle;\n",
       "    }\n",
       "\n",
       "    .dataframe tbody tr th {\n",
       "        vertical-align: top;\n",
       "    }\n",
       "\n",
       "    .dataframe thead th {\n",
       "        text-align: right;\n",
       "    }\n",
       "</style>\n",
       "<table border=\"1\" class=\"dataframe\">\n",
       "  <thead>\n",
       "    <tr style=\"text-align: right;\">\n",
       "      <th></th>\n",
       "      <th>0</th>\n",
       "      <th>1</th>\n",
       "      <th>2</th>\n",
       "      <th>3</th>\n",
       "      <th>4</th>\n",
       "    </tr>\n",
       "  </thead>\n",
       "  <tbody>\n",
       "    <tr>\n",
       "      <th>c</th>\n",
       "      <td>1.000000</td>\n",
       "      <td>2.000000</td>\n",
       "      <td>3.000000</td>\n",
       "      <td>4.000000</td>\n",
       "      <td>5.000000</td>\n",
       "    </tr>\n",
       "    <tr>\n",
       "      <th>b</th>\n",
       "      <td>0.320398</td>\n",
       "      <td>0.502341</td>\n",
       "      <td>0.500382</td>\n",
       "      <td>0.858191</td>\n",
       "      <td>0.715328</td>\n",
       "    </tr>\n",
       "    <tr>\n",
       "      <th>a</th>\n",
       "      <td>0.484631</td>\n",
       "      <td>0.610638</td>\n",
       "      <td>0.434876</td>\n",
       "      <td>0.293721</td>\n",
       "      <td>0.475293</td>\n",
       "    </tr>\n",
       "    <tr>\n",
       "      <th>d</th>\n",
       "      <td>0.448429</td>\n",
       "      <td>0.502194</td>\n",
       "      <td>0.097870</td>\n",
       "      <td>0.156136</td>\n",
       "      <td>0.301547</td>\n",
       "    </tr>\n",
       "  </tbody>\n",
       "</table>\n",
       "</div>"
      ],
      "text/plain": [
       "          0         1         2         3         4\n",
       "c  1.000000  2.000000  3.000000  4.000000  5.000000\n",
       "b  0.320398  0.502341  0.500382  0.858191  0.715328\n",
       "a  0.484631  0.610638  0.434876  0.293721  0.475293\n",
       "d  0.448429  0.502194  0.097870  0.156136  0.301547"
      ]
     },
     "execution_count": 27,
     "metadata": {},
     "output_type": "execute_result"
    }
   ],
   "source": [
    "df1.loc['c']=[1,2,3,4,5]\n",
    "df1"
   ]
  },
  {
   "cell_type": "code",
   "execution_count": 28,
   "metadata": {},
   "outputs": [
    {
     "data": {
      "text/html": [
       "<div>\n",
       "<style scoped>\n",
       "    .dataframe tbody tr th:only-of-type {\n",
       "        vertical-align: middle;\n",
       "    }\n",
       "\n",
       "    .dataframe tbody tr th {\n",
       "        vertical-align: top;\n",
       "    }\n",
       "\n",
       "    .dataframe thead th {\n",
       "        text-align: right;\n",
       "    }\n",
       "</style>\n",
       "<table border=\"1\" class=\"dataframe\">\n",
       "  <thead>\n",
       "    <tr style=\"text-align: right;\">\n",
       "      <th></th>\n",
       "      <th>0</th>\n",
       "      <th>1</th>\n",
       "      <th>2</th>\n",
       "      <th>3</th>\n",
       "      <th>4</th>\n",
       "    </tr>\n",
       "  </thead>\n",
       "  <tbody>\n",
       "    <tr>\n",
       "      <th>a</th>\n",
       "      <td>0.484631</td>\n",
       "      <td>0.610638</td>\n",
       "      <td>0.434876</td>\n",
       "      <td>0.293721</td>\n",
       "      <td>0.475293</td>\n",
       "    </tr>\n",
       "    <tr>\n",
       "      <th>b</th>\n",
       "      <td>0.320398</td>\n",
       "      <td>0.502341</td>\n",
       "      <td>0.500382</td>\n",
       "      <td>0.858191</td>\n",
       "      <td>0.715328</td>\n",
       "    </tr>\n",
       "    <tr>\n",
       "      <th>c</th>\n",
       "      <td>1.000000</td>\n",
       "      <td>2.000000</td>\n",
       "      <td>3.000000</td>\n",
       "      <td>4.000000</td>\n",
       "      <td>5.000000</td>\n",
       "    </tr>\n",
       "    <tr>\n",
       "      <th>d</th>\n",
       "      <td>0.448429</td>\n",
       "      <td>0.502194</td>\n",
       "      <td>0.097870</td>\n",
       "      <td>0.156136</td>\n",
       "      <td>0.301547</td>\n",
       "    </tr>\n",
       "  </tbody>\n",
       "</table>\n",
       "</div>"
      ],
      "text/plain": [
       "          0         1         2         3         4\n",
       "a  0.484631  0.610638  0.434876  0.293721  0.475293\n",
       "b  0.320398  0.502341  0.500382  0.858191  0.715328\n",
       "c  1.000000  2.000000  3.000000  4.000000  5.000000\n",
       "d  0.448429  0.502194  0.097870  0.156136  0.301547"
      ]
     },
     "execution_count": 28,
     "metadata": {},
     "output_type": "execute_result"
    }
   ],
   "source": [
    "df1.sort_index()"
   ]
  },
  {
   "cell_type": "code",
   "execution_count": 29,
   "metadata": {},
   "outputs": [
    {
     "data": {
      "text/html": [
       "<div>\n",
       "<style scoped>\n",
       "    .dataframe tbody tr th:only-of-type {\n",
       "        vertical-align: middle;\n",
       "    }\n",
       "\n",
       "    .dataframe tbody tr th {\n",
       "        vertical-align: top;\n",
       "    }\n",
       "\n",
       "    .dataframe thead th {\n",
       "        text-align: right;\n",
       "    }\n",
       "</style>\n",
       "<table border=\"1\" class=\"dataframe\">\n",
       "  <thead>\n",
       "    <tr style=\"text-align: right;\">\n",
       "      <th></th>\n",
       "      <th>0</th>\n",
       "      <th>1</th>\n",
       "      <th>2</th>\n",
       "      <th>3</th>\n",
       "      <th>4</th>\n",
       "    </tr>\n",
       "  </thead>\n",
       "  <tbody>\n",
       "    <tr>\n",
       "      <th>0</th>\n",
       "      <td>0.069569</td>\n",
       "      <td>0.724460</td>\n",
       "      <td>0.526303</td>\n",
       "      <td>0.190758</td>\n",
       "      <td>0.521211</td>\n",
       "    </tr>\n",
       "    <tr>\n",
       "      <th>1</th>\n",
       "      <td>0.341463</td>\n",
       "      <td>0.497122</td>\n",
       "      <td>0.412114</td>\n",
       "      <td>0.743645</td>\n",
       "      <td>0.306407</td>\n",
       "    </tr>\n",
       "    <tr>\n",
       "      <th>2</th>\n",
       "      <td>0.585757</td>\n",
       "      <td>0.071697</td>\n",
       "      <td>0.675309</td>\n",
       "      <td>0.881751</td>\n",
       "      <td>0.432571</td>\n",
       "    </tr>\n",
       "    <tr>\n",
       "      <th>3</th>\n",
       "      <td>0.150566</td>\n",
       "      <td>0.995985</td>\n",
       "      <td>0.744682</td>\n",
       "      <td>0.387735</td>\n",
       "      <td>0.607658</td>\n",
       "    </tr>\n",
       "  </tbody>\n",
       "</table>\n",
       "</div>"
      ],
      "text/plain": [
       "          0         1         2         3         4\n",
       "0  0.069569  0.724460  0.526303  0.190758  0.521211\n",
       "1  0.341463  0.497122  0.412114  0.743645  0.306407\n",
       "2  0.585757  0.071697  0.675309  0.881751  0.432571\n",
       "3  0.150566  0.995985  0.744682  0.387735  0.607658"
      ]
     },
     "execution_count": 29,
     "metadata": {},
     "output_type": "execute_result"
    }
   ],
   "source": [
    "df"
   ]
  },
  {
   "cell_type": "code",
   "execution_count": 30,
   "metadata": {
    "scrolled": true
   },
   "outputs": [
    {
     "data": {
      "text/plain": [
       "0    0.724460\n",
       "1    0.743645\n",
       "2    0.881751\n",
       "3    0.995985\n",
       "dtype: float64"
      ]
     },
     "execution_count": 30,
     "metadata": {},
     "output_type": "execute_result"
    }
   ],
   "source": [
    "df.max(1)#找出每一行的最大值"
   ]
  },
  {
   "cell_type": "code",
   "execution_count": 31,
   "metadata": {},
   "outputs": [
    {
     "data": {
      "text/html": [
       "<div>\n",
       "<style scoped>\n",
       "    .dataframe tbody tr th:only-of-type {\n",
       "        vertical-align: middle;\n",
       "    }\n",
       "\n",
       "    .dataframe tbody tr th {\n",
       "        vertical-align: top;\n",
       "    }\n",
       "\n",
       "    .dataframe thead th {\n",
       "        text-align: right;\n",
       "    }\n",
       "</style>\n",
       "<table border=\"1\" class=\"dataframe\">\n",
       "  <thead>\n",
       "    <tr style=\"text-align: right;\">\n",
       "      <th></th>\n",
       "      <th>0</th>\n",
       "      <th>1</th>\n",
       "      <th>2</th>\n",
       "      <th>3</th>\n",
       "      <th>4</th>\n",
       "    </tr>\n",
       "  </thead>\n",
       "  <tbody>\n",
       "    <tr>\n",
       "      <th>count</th>\n",
       "      <td>4.000000</td>\n",
       "      <td>4.000000</td>\n",
       "      <td>4.000000</td>\n",
       "      <td>4.000000</td>\n",
       "      <td>4.000000</td>\n",
       "    </tr>\n",
       "    <tr>\n",
       "      <th>mean</th>\n",
       "      <td>0.286839</td>\n",
       "      <td>0.572316</td>\n",
       "      <td>0.589602</td>\n",
       "      <td>0.550972</td>\n",
       "      <td>0.466962</td>\n",
       "    </tr>\n",
       "    <tr>\n",
       "      <th>std</th>\n",
       "      <td>0.229574</td>\n",
       "      <td>0.391117</td>\n",
       "      <td>0.149336</td>\n",
       "      <td>0.317773</td>\n",
       "      <td>0.128710</td>\n",
       "    </tr>\n",
       "    <tr>\n",
       "      <th>min</th>\n",
       "      <td>0.069569</td>\n",
       "      <td>0.071697</td>\n",
       "      <td>0.412114</td>\n",
       "      <td>0.190758</td>\n",
       "      <td>0.306407</td>\n",
       "    </tr>\n",
       "    <tr>\n",
       "      <th>25%</th>\n",
       "      <td>0.130317</td>\n",
       "      <td>0.390766</td>\n",
       "      <td>0.497756</td>\n",
       "      <td>0.338491</td>\n",
       "      <td>0.401030</td>\n",
       "    </tr>\n",
       "    <tr>\n",
       "      <th>50%</th>\n",
       "      <td>0.246015</td>\n",
       "      <td>0.610791</td>\n",
       "      <td>0.600806</td>\n",
       "      <td>0.565690</td>\n",
       "      <td>0.476891</td>\n",
       "    </tr>\n",
       "    <tr>\n",
       "      <th>75%</th>\n",
       "      <td>0.402537</td>\n",
       "      <td>0.792342</td>\n",
       "      <td>0.692652</td>\n",
       "      <td>0.778172</td>\n",
       "      <td>0.542823</td>\n",
       "    </tr>\n",
       "    <tr>\n",
       "      <th>max</th>\n",
       "      <td>0.585757</td>\n",
       "      <td>0.995985</td>\n",
       "      <td>0.744682</td>\n",
       "      <td>0.881751</td>\n",
       "      <td>0.607658</td>\n",
       "    </tr>\n",
       "  </tbody>\n",
       "</table>\n",
       "</div>"
      ],
      "text/plain": [
       "              0         1         2         3         4\n",
       "count  4.000000  4.000000  4.000000  4.000000  4.000000\n",
       "mean   0.286839  0.572316  0.589602  0.550972  0.466962\n",
       "std    0.229574  0.391117  0.149336  0.317773  0.128710\n",
       "min    0.069569  0.071697  0.412114  0.190758  0.306407\n",
       "25%    0.130317  0.390766  0.497756  0.338491  0.401030\n",
       "50%    0.246015  0.610791  0.600806  0.565690  0.476891\n",
       "75%    0.402537  0.792342  0.692652  0.778172  0.542823\n",
       "max    0.585757  0.995985  0.744682  0.881751  0.607658"
      ]
     },
     "execution_count": 31,
     "metadata": {},
     "output_type": "execute_result"
    }
   ],
   "source": [
    "df.describe()#对列进行分析"
   ]
  },
  {
   "cell_type": "code",
   "execution_count": null,
   "metadata": {},
   "outputs": [],
   "source": []
  },
  {
   "cell_type": "code",
   "execution_count": null,
   "metadata": {},
   "outputs": [],
   "source": []
  },
  {
   "cell_type": "code",
   "execution_count": null,
   "metadata": {},
   "outputs": [],
   "source": []
  },
  {
   "cell_type": "code",
   "execution_count": null,
   "metadata": {},
   "outputs": [],
   "source": []
  },
  {
   "cell_type": "code",
   "execution_count": null,
   "metadata": {},
   "outputs": [],
   "source": []
  },
  {
   "cell_type": "code",
   "execution_count": null,
   "metadata": {},
   "outputs": [],
   "source": []
  },
  {
   "cell_type": "code",
   "execution_count": null,
   "metadata": {},
   "outputs": [],
   "source": []
  }
 ],
 "metadata": {
  "kernelspec": {
   "display_name": "Python 3",
   "language": "python",
   "name": "python3"
  },
  "language_info": {
   "codemirror_mode": {
    "name": "ipython",
    "version": 3
   },
   "file_extension": ".py",
   "mimetype": "text/x-python",
   "name": "python",
   "nbconvert_exporter": "python",
   "pygments_lexer": "ipython3",
   "version": "3.6.3"
  }
 },
 "nbformat": 4,
 "nbformat_minor": 2
}
