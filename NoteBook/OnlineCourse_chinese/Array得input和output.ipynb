{
 "cells": [
  {
   "cell_type": "markdown",
   "metadata": {},
   "source": [
    "使用pickle序列化numpy array"
   ]
  },
  {
   "cell_type": "code",
   "execution_count": 1,
   "metadata": {},
   "outputs": [],
   "source": [
    "import pickle\n",
    "import numpy as np"
   ]
  },
  {
   "cell_type": "code",
   "execution_count": 2,
   "metadata": {},
   "outputs": [],
   "source": [
    "x=np.arange(10)"
   ]
  },
  {
   "cell_type": "code",
   "execution_count": 3,
   "metadata": {},
   "outputs": [
    {
     "data": {
      "text/plain": [
       "array([0, 1, 2, 3, 4, 5, 6, 7, 8, 9])"
      ]
     },
     "execution_count": 3,
     "metadata": {},
     "output_type": "execute_result"
    }
   ],
   "source": [
    "x"
   ]
  },
  {
   "cell_type": "code",
   "execution_count": 4,
   "metadata": {},
   "outputs": [],
   "source": [
    "f=open('x.pkl','wb')#pickle only use in binary"
   ]
  },
  {
   "cell_type": "code",
   "execution_count": 5,
   "metadata": {},
   "outputs": [],
   "source": [
    "pickle.dump(x,f)"
   ]
  },
  {
   "cell_type": "code",
   "execution_count": 7,
   "metadata": {},
   "outputs": [
    {
     "name": "stdout",
     "output_type": "stream",
     "text": [
      " Volume in drive C is Windows\n",
      " Volume Serial Number is 9495-EDD8\n",
      "\n",
      " Directory of C:\\Users\\ZHAOFENG SHANG\\Desktop\\NoteBook\\OnlineCourse_chinese\n",
      "\n",
      "01/15/2018  07:26 PM    <DIR>          .\n",
      "01/15/2018  07:26 PM    <DIR>          ..\n",
      "01/15/2018  07:26 PM    <DIR>          .ipynb_checkpoints\n",
      "01/13/2018  09:44 PM            22,338 Aggregation.ipynb\n",
      "01/13/2018  11:01 PM            40,420 Apply.ipynb\n",
      "01/12/2018  10:29 AM             7,841 Array.ipynb\n",
      "01/12/2018  02:55 PM             5,349 Array?input?output.ipynb\n",
      "01/14/2018  10:27 AM            58,241 Basic Plot.ipynb\n",
      "01/14/2018  08:48 AM            36,698 Clean Duplicated Data.ipynb\n",
      "01/13/2018  09:30 AM    <DIR>          course_document\n",
      "01/13/2018  04:10 PM            13,151 DataFrame Binning.ipynb\n",
      "01/12/2018  10:44 PM            23,263 DataFrame IO.ipynb\n",
      "01/15/2018  11:12 AM           172,038 DataFrame Plot.ipynb\n",
      "01/13/2018  10:59 AM            45,327 DataFrame.ipynb\n",
      "01/12/2018  10:26 PM               867 df_io.csv\n",
      "01/12/2018  10:42 PM               243 df_io.html\n",
      "01/12/2018  10:42 PM                23 df_ioi.csv\n",
      "01/13/2018  04:34 PM            14,848 Groupby.ipynb\n",
      "01/15/2018  05:40 PM           245,072 Heat map and Bar Plot.ipynb\n",
      "01/14/2018  10:21 PM            93,184 Histogram and KDE Plot.ipynb\n",
      "01/15/2018  05:02 PM            68,714 Histogram SeaBorn.ipynb\n",
      "01/12/2018  12:08 PM             9,464 matrix.ipynb\n",
      "01/12/2018  02:47 PM               120 one_array.npy\n",
      "01/12/2018  07:48 PM            12,095 Pandas_Series.ipynb\n",
      "01/13/2018  07:19 PM            17,834 Reindexing Series and DataFrame.ipynb\n",
      "01/12/2018  09:58 PM            20,447 relation between Series and DataFrame.ipynb\n",
      "01/13/2018  10:26 AM           145,654 Selecting and Indexing.ipynb\n",
      "01/13/2018  10:23 PM            28,941 Series and DataFrame Mathematics.ipynb\n",
      "01/15/2018  09:55 AM            69,045 Series Plot.ipynb\n",
      "01/14/2018  07:23 PM            92,400 Subplot.ipynb\n",
      "01/13/2018  07:30 PM            30,431 Talk about NaN.ipynb\n",
      "01/14/2018  09:38 AM           139,859 Time Series-Sample and Plot.ipynb\n",
      "01/14/2018  09:03 AM             7,294 Time Series-the Basic.ipynb\n",
      "01/12/2018  02:46 PM               474 two_array.npz\n",
      "01/15/2018  07:26 PM                 0 x.pkl\n",
      "              31 File(s)      1,421,675 bytes\n",
      "               4 Dir(s)  129,992,986,624 bytes free\n"
     ]
    }
   ],
   "source": [
    "!dir"
   ]
  },
  {
   "cell_type": "code",
   "execution_count": 8,
   "metadata": {},
   "outputs": [],
   "source": [
    "#要重新打开文件"
   ]
  },
  {
   "cell_type": "code",
   "execution_count": 9,
   "metadata": {},
   "outputs": [],
   "source": [
    "f=open('x.pkl','rb')"
   ]
  },
  {
   "cell_type": "code",
   "execution_count": 10,
   "metadata": {},
   "outputs": [
    {
     "data": {
      "text/plain": [
       "array([0, 1, 2, 3, 4, 5, 6, 7, 8, 9])"
      ]
     },
     "execution_count": 10,
     "metadata": {},
     "output_type": "execute_result"
    }
   ],
   "source": [
    "pickle.load(f)"
   ]
  },
  {
   "cell_type": "code",
   "execution_count": 11,
   "metadata": {},
   "outputs": [],
   "source": [
    "np.save('one_array',x)#numpy 自带方法 save,只能存一个"
   ]
  },
  {
   "cell_type": "code",
   "execution_count": 12,
   "metadata": {},
   "outputs": [
    {
     "name": "stderr",
     "output_type": "stream",
     "text": [
      "'ls' is not recognized as an internal or external command,\n",
      "operable program or batch file.\n"
     ]
    }
   ],
   "source": [
    "!ls"
   ]
  },
  {
   "cell_type": "code",
   "execution_count": 13,
   "metadata": {},
   "outputs": [
    {
     "data": {
      "text/plain": [
       "array([0, 1, 2, 3, 4, 5, 6, 7, 8, 9])"
      ]
     },
     "execution_count": 13,
     "metadata": {},
     "output_type": "execute_result"
    }
   ],
   "source": [
    "np.load('one_array.npy')"
   ]
  },
  {
   "cell_type": "code",
   "execution_count": 14,
   "metadata": {},
   "outputs": [],
   "source": [
    "y=np.arange(20)"
   ]
  },
  {
   "cell_type": "code",
   "execution_count": 15,
   "metadata": {},
   "outputs": [
    {
     "data": {
      "text/plain": [
       "array([ 0,  1,  2,  3,  4,  5,  6,  7,  8,  9, 10, 11, 12, 13, 14, 15, 16,\n",
       "       17, 18, 19])"
      ]
     },
     "execution_count": 15,
     "metadata": {},
     "output_type": "execute_result"
    }
   ],
   "source": [
    "y"
   ]
  },
  {
   "cell_type": "code",
   "execution_count": 16,
   "metadata": {},
   "outputs": [],
   "source": [
    "np.savez('two_array.npz',a=x,b=y) #numpy 自带方法 savez,可以多存  savezip"
   ]
  },
  {
   "cell_type": "code",
   "execution_count": 17,
   "metadata": {},
   "outputs": [],
   "source": [
    "c=np.load('two_array.npz')"
   ]
  },
  {
   "cell_type": "code",
   "execution_count": 18,
   "metadata": {},
   "outputs": [
    {
     "data": {
      "text/plain": [
       "array([0, 1, 2, 3, 4, 5, 6, 7, 8, 9])"
      ]
     },
     "execution_count": 18,
     "metadata": {},
     "output_type": "execute_result"
    }
   ],
   "source": [
    "c['a']"
   ]
  },
  {
   "cell_type": "code",
   "execution_count": 19,
   "metadata": {},
   "outputs": [
    {
     "data": {
      "text/plain": [
       "array([ 0,  1,  2,  3,  4,  5,  6,  7,  8,  9, 10, 11, 12, 13, 14, 15, 16,\n",
       "       17, 18, 19])"
      ]
     },
     "execution_count": 19,
     "metadata": {},
     "output_type": "execute_result"
    }
   ],
   "source": [
    "c['b']"
   ]
  },
  {
   "cell_type": "code",
   "execution_count": 20,
   "metadata": {},
   "outputs": [],
   "source": [
    "# 使用pickle序列化numpy array\n",
    "# 方法1：\n",
    "\n",
    "# import pickle\n",
    "# import numpy as np\n",
    "# x=np.arange(10)\n",
    "# f=open('x.pkl','wb')#pickle only use in binary\n",
    "# pickle.dump(x,f)\n",
    "# f=open('x.pkl','rb')\n",
    "# pickle.load(f)\n",
    "# 方法2：\n",
    "# numpy自带\n",
    "# 只能对于存一个：\n",
    "# np.save('one_array',x)\n",
    "# np.load('one_array.npy')\n",
    "# 对于存多个：\n",
    "# np.savez('two_array.npz',a=x,b=y）\n",
    "# c=np.load('two_array.npz')\n",
    "# c['a']\n",
    "# c['b']     #进行调用\n",
    "# #"
   ]
  },
  {
   "cell_type": "code",
   "execution_count": null,
   "metadata": {},
   "outputs": [],
   "source": []
  },
  {
   "cell_type": "code",
   "execution_count": null,
   "metadata": {},
   "outputs": [],
   "source": []
  },
  {
   "cell_type": "code",
   "execution_count": null,
   "metadata": {},
   "outputs": [],
   "source": []
  },
  {
   "cell_type": "code",
   "execution_count": null,
   "metadata": {},
   "outputs": [],
   "source": []
  }
 ],
 "metadata": {
  "kernelspec": {
   "display_name": "Python 3",
   "language": "python",
   "name": "python3"
  },
  "language_info": {
   "codemirror_mode": {
    "name": "ipython",
    "version": 3
   },
   "file_extension": ".py",
   "mimetype": "text/x-python",
   "name": "python",
   "nbconvert_exporter": "python",
   "pygments_lexer": "ipython3",
   "version": "3.6.3"
  }
 },
 "nbformat": 4,
 "nbformat_minor": 2
}
