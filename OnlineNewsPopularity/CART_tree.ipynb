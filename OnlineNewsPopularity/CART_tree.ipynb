{
 "cells": [
  {
   "cell_type": "code",
   "execution_count": 1,
   "metadata": {},
   "outputs": [
    {
     "name": "stderr",
     "output_type": "stream",
     "text": [
      "c:\\users\\zhaofeng shang\\appdata\\local\\programs\\python\\python36-32\\lib\\site-packages\\sklearn\\cross_validation.py:41: DeprecationWarning: This module was deprecated in version 0.18 in favor of the model_selection module into which all the refactored classes and functions are moved. Also note that the interface of the new CV iterators are different from that of this module. This module will be removed in 0.20.\n",
      "  \"This module will be removed in 0.20.\", DeprecationWarning)\n"
     ]
    }
   ],
   "source": [
    "import numpy as np\n",
    "import pandas as pd\n",
    "from sklearn.cross_validation import train_test_split\n",
    "from sklearn import cross_validation\n",
    "from sklearn.tree import DecisionTreeClassifier\n",
    "from sklearn.metrics import accuracy_score\n",
    "from sklearn import tree"
   ]
  },
  {
   "cell_type": "code",
   "execution_count": 2,
   "metadata": {},
   "outputs": [],
   "source": [
    "train = pd.read_csv('NewsDataset_classification.csv')"
   ]
  },
  {
   "cell_type": "code",
   "execution_count": 3,
   "metadata": {},
   "outputs": [
    {
     "data": {
      "text/plain": [
       "(39643, 52)"
      ]
     },
     "execution_count": 3,
     "metadata": {},
     "output_type": "execute_result"
    }
   ],
   "source": [
    "train.shape"
   ]
  },
  {
   "cell_type": "code",
   "execution_count": 4,
   "metadata": {
    "scrolled": true
   },
   "outputs": [],
   "source": [
    "train=train.drop(['Year','shares','Date','self_reference_avg_sharess','url','timedelta','n_tokens_content'\n",
    "                 ,'self_reference_min_shares','self_reference_max_shares','X'],axis=1)"
   ]
  },
  {
   "cell_type": "code",
   "execution_count": 5,
   "metadata": {},
   "outputs": [
    {
     "data": {
      "text/html": [
       "<div>\n",
       "<style scoped>\n",
       "    .dataframe tbody tr th:only-of-type {\n",
       "        vertical-align: middle;\n",
       "    }\n",
       "\n",
       "    .dataframe tbody tr th {\n",
       "        vertical-align: top;\n",
       "    }\n",
       "\n",
       "    .dataframe thead th {\n",
       "        text-align: right;\n",
       "    }\n",
       "</style>\n",
       "<table border=\"1\" class=\"dataframe\">\n",
       "  <thead>\n",
       "    <tr style=\"text-align: right;\">\n",
       "      <th></th>\n",
       "      <th>Unnamed: 0</th>\n",
       "      <th>n_tokens_title</th>\n",
       "      <th>n_unique_tokens</th>\n",
       "      <th>n_non_stop_words</th>\n",
       "      <th>n_non_stop_unique_tokens</th>\n",
       "      <th>num_hrefs</th>\n",
       "      <th>num_self_hrefs</th>\n",
       "      <th>num_imgs</th>\n",
       "      <th>num_videos</th>\n",
       "      <th>average_token_length</th>\n",
       "      <th>...</th>\n",
       "      <th>title_subjectivity</th>\n",
       "      <th>title_sentiment_polarity</th>\n",
       "      <th>abs_title_subjectivity</th>\n",
       "      <th>abs_title_sentiment_polarity</th>\n",
       "      <th>Month</th>\n",
       "      <th>Day</th>\n",
       "      <th>weekday</th>\n",
       "      <th>isWeekend</th>\n",
       "      <th>Type</th>\n",
       "      <th>isPopular</th>\n",
       "    </tr>\n",
       "  </thead>\n",
       "  <tbody>\n",
       "    <tr>\n",
       "      <th>0</th>\n",
       "      <td>1</td>\n",
       "      <td>12</td>\n",
       "      <td>0.663594</td>\n",
       "      <td>1.0</td>\n",
       "      <td>0.815385</td>\n",
       "      <td>4</td>\n",
       "      <td>2</td>\n",
       "      <td>1</td>\n",
       "      <td>0</td>\n",
       "      <td>4.680365</td>\n",
       "      <td>...</td>\n",
       "      <td>0.500000</td>\n",
       "      <td>-0.187500</td>\n",
       "      <td>0.000000</td>\n",
       "      <td>0.187500</td>\n",
       "      <td>1</td>\n",
       "      <td>7</td>\n",
       "      <td>1</td>\n",
       "      <td>0</td>\n",
       "      <td>3</td>\n",
       "      <td>Less Popular</td>\n",
       "    </tr>\n",
       "    <tr>\n",
       "      <th>1</th>\n",
       "      <td>2</td>\n",
       "      <td>9</td>\n",
       "      <td>0.604743</td>\n",
       "      <td>1.0</td>\n",
       "      <td>0.791946</td>\n",
       "      <td>3</td>\n",
       "      <td>1</td>\n",
       "      <td>1</td>\n",
       "      <td>0</td>\n",
       "      <td>4.913725</td>\n",
       "      <td>...</td>\n",
       "      <td>0.000000</td>\n",
       "      <td>0.000000</td>\n",
       "      <td>0.500000</td>\n",
       "      <td>0.000000</td>\n",
       "      <td>1</td>\n",
       "      <td>7</td>\n",
       "      <td>1</td>\n",
       "      <td>0</td>\n",
       "      <td>1</td>\n",
       "      <td>Less Popular</td>\n",
       "    </tr>\n",
       "    <tr>\n",
       "      <th>2</th>\n",
       "      <td>3</td>\n",
       "      <td>9</td>\n",
       "      <td>0.575130</td>\n",
       "      <td>1.0</td>\n",
       "      <td>0.663866</td>\n",
       "      <td>3</td>\n",
       "      <td>1</td>\n",
       "      <td>1</td>\n",
       "      <td>0</td>\n",
       "      <td>4.393365</td>\n",
       "      <td>...</td>\n",
       "      <td>0.000000</td>\n",
       "      <td>0.000000</td>\n",
       "      <td>0.500000</td>\n",
       "      <td>0.000000</td>\n",
       "      <td>1</td>\n",
       "      <td>7</td>\n",
       "      <td>1</td>\n",
       "      <td>0</td>\n",
       "      <td>1</td>\n",
       "      <td>High Popular</td>\n",
       "    </tr>\n",
       "    <tr>\n",
       "      <th>3</th>\n",
       "      <td>4</td>\n",
       "      <td>9</td>\n",
       "      <td>0.503788</td>\n",
       "      <td>1.0</td>\n",
       "      <td>0.665635</td>\n",
       "      <td>9</td>\n",
       "      <td>0</td>\n",
       "      <td>1</td>\n",
       "      <td>0</td>\n",
       "      <td>4.404896</td>\n",
       "      <td>...</td>\n",
       "      <td>0.000000</td>\n",
       "      <td>0.000000</td>\n",
       "      <td>0.500000</td>\n",
       "      <td>0.000000</td>\n",
       "      <td>1</td>\n",
       "      <td>7</td>\n",
       "      <td>1</td>\n",
       "      <td>0</td>\n",
       "      <td>3</td>\n",
       "      <td>Less Popular</td>\n",
       "    </tr>\n",
       "    <tr>\n",
       "      <th>4</th>\n",
       "      <td>5</td>\n",
       "      <td>13</td>\n",
       "      <td>0.415646</td>\n",
       "      <td>1.0</td>\n",
       "      <td>0.540890</td>\n",
       "      <td>19</td>\n",
       "      <td>19</td>\n",
       "      <td>20</td>\n",
       "      <td>0</td>\n",
       "      <td>4.682836</td>\n",
       "      <td>...</td>\n",
       "      <td>0.454545</td>\n",
       "      <td>0.136364</td>\n",
       "      <td>0.045455</td>\n",
       "      <td>0.136364</td>\n",
       "      <td>1</td>\n",
       "      <td>7</td>\n",
       "      <td>1</td>\n",
       "      <td>0</td>\n",
       "      <td>5</td>\n",
       "      <td>Less Popular</td>\n",
       "    </tr>\n",
       "  </tbody>\n",
       "</table>\n",
       "<p>5 rows × 42 columns</p>\n",
       "</div>"
      ],
      "text/plain": [
       "   Unnamed: 0  n_tokens_title  n_unique_tokens  n_non_stop_words  \\\n",
       "0           1              12         0.663594               1.0   \n",
       "1           2               9         0.604743               1.0   \n",
       "2           3               9         0.575130               1.0   \n",
       "3           4               9         0.503788               1.0   \n",
       "4           5              13         0.415646               1.0   \n",
       "\n",
       "   n_non_stop_unique_tokens  num_hrefs  num_self_hrefs  num_imgs  num_videos  \\\n",
       "0                  0.815385          4               2         1           0   \n",
       "1                  0.791946          3               1         1           0   \n",
       "2                  0.663866          3               1         1           0   \n",
       "3                  0.665635          9               0         1           0   \n",
       "4                  0.540890         19              19        20           0   \n",
       "\n",
       "   average_token_length      ...       title_subjectivity  \\\n",
       "0              4.680365      ...                 0.500000   \n",
       "1              4.913725      ...                 0.000000   \n",
       "2              4.393365      ...                 0.000000   \n",
       "3              4.404896      ...                 0.000000   \n",
       "4              4.682836      ...                 0.454545   \n",
       "\n",
       "   title_sentiment_polarity  abs_title_subjectivity  \\\n",
       "0                 -0.187500                0.000000   \n",
       "1                  0.000000                0.500000   \n",
       "2                  0.000000                0.500000   \n",
       "3                  0.000000                0.500000   \n",
       "4                  0.136364                0.045455   \n",
       "\n",
       "   abs_title_sentiment_polarity  Month  Day  weekday  isWeekend  Type  \\\n",
       "0                      0.187500      1    7        1          0     3   \n",
       "1                      0.000000      1    7        1          0     1   \n",
       "2                      0.000000      1    7        1          0     1   \n",
       "3                      0.000000      1    7        1          0     3   \n",
       "4                      0.136364      1    7        1          0     5   \n",
       "\n",
       "      isPopular  \n",
       "0  Less Popular  \n",
       "1  Less Popular  \n",
       "2  High Popular  \n",
       "3  Less Popular  \n",
       "4  Less Popular  \n",
       "\n",
       "[5 rows x 42 columns]"
      ]
     },
     "execution_count": 5,
     "metadata": {},
     "output_type": "execute_result"
    }
   ],
   "source": [
    "train.head()"
   ]
  },
  {
   "cell_type": "code",
   "execution_count": 6,
   "metadata": {
    "scrolled": true
   },
   "outputs": [
    {
     "name": "stdout",
     "output_type": "stream",
     "text": [
      "<class 'pandas.core.frame.DataFrame'>\n",
      "RangeIndex: 39643 entries, 0 to 39642\n",
      "Data columns (total 42 columns):\n",
      "Unnamed: 0                      39643 non-null int64\n",
      "n_tokens_title                  39643 non-null int64\n",
      "n_unique_tokens                 39643 non-null float64\n",
      "n_non_stop_words                39643 non-null float64\n",
      "n_non_stop_unique_tokens        39643 non-null float64\n",
      "num_hrefs                       39643 non-null int64\n",
      "num_self_hrefs                  39643 non-null int64\n",
      "num_imgs                        39643 non-null int64\n",
      "num_videos                      39643 non-null int64\n",
      "average_token_length            39643 non-null float64\n",
      "num_keywords                    39643 non-null int64\n",
      "kw_min_min                      39643 non-null int64\n",
      "kw_max_min                      39643 non-null float64\n",
      "kw_avg_min                      39643 non-null float64\n",
      "kw_min_max                      39643 non-null int64\n",
      "kw_max_max                      39643 non-null int64\n",
      "kw_avg_max                      39643 non-null float64\n",
      "kw_min_avg                      39643 non-null float64\n",
      "kw_max_avg                      39643 non-null float64\n",
      "kw_avg_avg                      39643 non-null float64\n",
      "global_subjectivity             39643 non-null float64\n",
      "global_sentiment_polarity       39643 non-null float64\n",
      "global_rate_positive_words      39643 non-null float64\n",
      "global_rate_negative_words      39643 non-null float64\n",
      "rate_positive_words             39643 non-null float64\n",
      "rate_negative_words             39643 non-null float64\n",
      "avg_positive_polarity           39643 non-null float64\n",
      "min_positive_polarity           39643 non-null float64\n",
      "max_positive_polarity           39643 non-null float64\n",
      "avg_negative_polarity           39643 non-null float64\n",
      "min_negative_polarity           39643 non-null float64\n",
      "max_negative_polarity           39643 non-null float64\n",
      "title_subjectivity              39643 non-null float64\n",
      "title_sentiment_polarity        39643 non-null float64\n",
      "abs_title_subjectivity          39643 non-null float64\n",
      "abs_title_sentiment_polarity    39643 non-null float64\n",
      "Month                           39643 non-null int64\n",
      "Day                             39643 non-null int64\n",
      "weekday                         39643 non-null int64\n",
      "isWeekend                       39643 non-null int64\n",
      "Type                            39643 non-null int64\n",
      "isPopular                       39643 non-null object\n",
      "dtypes: float64(26), int64(15), object(1)\n",
      "memory usage: 12.6+ MB\n"
     ]
    }
   ],
   "source": [
    "train.info()"
   ]
  },
  {
   "cell_type": "code",
   "execution_count": 7,
   "metadata": {},
   "outputs": [
    {
     "data": {
      "text/plain": [
       "count    39643.000000\n",
       "mean        15.684282\n",
       "std          8.637902\n",
       "min          1.000000\n",
       "25%          8.000000\n",
       "50%         16.000000\n",
       "75%         23.000000\n",
       "max         31.000000\n",
       "Name: Day, dtype: float64"
      ]
     },
     "execution_count": 7,
     "metadata": {},
     "output_type": "execute_result"
    }
   ],
   "source": [
    "train['Day'].describe()"
   ]
  },
  {
   "cell_type": "code",
   "execution_count": 8,
   "metadata": {
    "scrolled": true
   },
   "outputs": [],
   "source": [
    "def extract(data):\n",
    "    data.loc[data['Day']<=8,'Day']=1\n",
    "    data.loc[(data['Day']<16)&(data['Day']>8),'Day']=2\n",
    "    data.loc[(data['Day']<31)&(data['Day']>=16),'Day']=2\n",
    "    data.loc[data['Day']>=31,'Day']=4\n",
    "    return data\n",
    "train=extract(train)\n",
    "    "
   ]
  },
  {
   "cell_type": "code",
   "execution_count": 9,
   "metadata": {},
   "outputs": [],
   "source": [
    "x,y=train.drop(['isPopular'],axis=1),train['isPopular']"
   ]
  },
  {
   "cell_type": "code",
   "execution_count": null,
   "metadata": {},
   "outputs": [],
   "source": []
  },
  {
   "cell_type": "code",
   "execution_count": 10,
   "metadata": {},
   "outputs": [],
   "source": [
    "X_train, X_test, y_train, y_test = train_test_split( x, y, test_size = 0.3, random_state = 100)"
   ]
  },
  {
   "cell_type": "code",
   "execution_count": 11,
   "metadata": {},
   "outputs": [
    {
     "name": "stdout",
     "output_type": "stream",
     "text": [
      "parameters:\n",
      "best score:0.488\n",
      "best parameters set:\n",
      "\tclass_weight: None\n",
      "\tcriterion: gini\n",
      "\tmax_depth: None\n",
      "\tmax_features: None\n",
      "\tmax_leaf_nodes: None\n",
      "\tmin_impurity_decrease: 0.0\n",
      "\tmin_impurity_split: None\n",
      "\tmin_samples_leaf: 4\n",
      "\tmin_samples_split: 4\n",
      "\tmin_weight_fraction_leaf: 0.0\n",
      "\tpresort: False\n",
      "\trandom_state: None\n",
      "\tsplitter: best\n"
     ]
    }
   ],
   "source": [
    "from sklearn.model_selection import GridSearchCV\n",
    "def parameter_evaluate(data):\n",
    "    clf = DecisionTreeClassifier()\n",
    "    x,y=train.drop(['isPopular'],axis=1),train['isPopular']\n",
    "    parameters={'criterion':['gini','entropy'],'min_samples_leaf':[1,2,3,4],\n",
    "               'min_samples_split':[2,3,4,5]}\n",
    "    grid_search = GridSearchCV(estimator=clf, param_grid=parameters, cv=10, scoring='accuracy')\n",
    "    print('parameters:')\n",
    "    grid_search.fit(x,y)\n",
    "    print('best score:%0.3f' % grid_search.best_score_)\n",
    "    print('best parameters set:')\n",
    "    bsp = grid_search.best_estimator_.get_params()\n",
    "    \n",
    "    for i in sorted(bsp.keys()):\n",
    "        print('\\t%s: %s' % (i,bsp[i]))\n",
    "    return bsp\n",
    "\n",
    "parameters = parameter_evaluate(train) "
   ]
  },
  {
   "cell_type": "code",
   "execution_count": 12,
   "metadata": {},
   "outputs": [
    {
     "data": {
      "text/plain": [
       "DecisionTreeClassifier(class_weight=None, criterion='gini', max_depth=None,\n",
       "            max_features=None, max_leaf_nodes=None,\n",
       "            min_impurity_decrease=0.0, min_impurity_split=None,\n",
       "            min_samples_leaf=4, min_samples_split=4,\n",
       "            min_weight_fraction_leaf=0.0, presort=False, random_state=None,\n",
       "            splitter='best')"
      ]
     },
     "execution_count": 12,
     "metadata": {},
     "output_type": "execute_result"
    }
   ],
   "source": [
    "cl_search = DecisionTreeClassifier(**parameters)\n",
    "cl_search.fit(X_train,y_train)"
   ]
  },
  {
   "cell_type": "code",
   "execution_count": 16,
   "metadata": {},
   "outputs": [
    {
     "name": "stdout",
     "output_type": "stream",
     "text": [
      "Accuracy is  56.3524762465\n"
     ]
    }
   ],
   "source": [
    "y_pred1 = cl_search.predict(X_test)\n",
    "y_pred1\n",
    "print (\"Accuracy is \", accuracy_score(y_test,y_pred1)*100)"
   ]
  },
  {
   "cell_type": "code",
   "execution_count": null,
   "metadata": {},
   "outputs": [],
   "source": [
    "\n",
    "clf_gini = DecisionTreeClassifier(criterion = \"gini\", random_state = 100,\n",
    "                               max_depth=3, min_samples_leaf=5)\n",
    "clf_gini.fit(X_train, y_train)"
   ]
  },
  {
   "cell_type": "code",
   "execution_count": null,
   "metadata": {},
   "outputs": [],
   "source": [
    "1\n",
    "2\n",
    "y_pred = clf_gini.predict(X_test)\n",
    "y_pred"
   ]
  },
  {
   "cell_type": "code",
   "execution_count": null,
   "metadata": {},
   "outputs": [],
   "source": [
    "1\n",
    "print (\"Accuracy is \", accuracy_score(y_test,y_pred)*100)"
   ]
  },
  {
   "cell_type": "code",
   "execution_count": null,
   "metadata": {},
   "outputs": [],
   "source": [
    "from IPython.display import Image  \n",
    "import pydotplus \n",
    "from sklearn import tree\n",
    "import os  \n",
    "import pydot\n",
    "dot_data = tree.export_graphviz(cl_search, out_file=None, \n",
    "                         \n",
    "                         filled=True, rounded=True,  \n",
    "                         special_characters=True)  \n",
    "graph = pydotplus.graph_from_dot_data(dot_data)  \n",
    "Image(graph.create_png()) "
   ]
  },
  {
   "cell_type": "code",
   "execution_count": null,
   "metadata": {},
   "outputs": [],
   "source": [
    "from sklearn.datasets import load_iris\n",
    "iris = load_iris()\n",
    "iris.feature_names"
   ]
  },
  {
   "cell_type": "code",
   "execution_count": null,
   "metadata": {},
   "outputs": [],
   "source": [
    "iris.target_names\n"
   ]
  },
  {
   "cell_type": "code",
   "execution_count": null,
   "metadata": {},
   "outputs": [],
   "source": [
    "train."
   ]
  },
  {
   "cell_type": "code",
   "execution_count": null,
   "metadata": {},
   "outputs": [],
   "source": []
  }
 ],
 "metadata": {
  "kernelspec": {
   "display_name": "Python 3",
   "language": "python",
   "name": "python3"
  },
  "language_info": {
   "codemirror_mode": {
    "name": "ipython",
    "version": 3
   },
   "file_extension": ".py",
   "mimetype": "text/x-python",
   "name": "python",
   "nbconvert_exporter": "python",
   "pygments_lexer": "ipython3",
   "version": "3.6.3"
  }
 },
 "nbformat": 4,
 "nbformat_minor": 2
}
